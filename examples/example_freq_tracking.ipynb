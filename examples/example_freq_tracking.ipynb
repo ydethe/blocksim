{
 "cells": [
  {
   "cell_type": "markdown",
   "metadata": {},
   "source": [
    "# Frequency tracking\n",
    "This example shows how to use a Kalman filter to estimate the frequencies\n",
    "present in a signal.\n",
    "## Definition of some constants"
   ]
  },
  {
   "cell_type": "code",
   "execution_count": null,
   "metadata": {},
   "outputs": [],
   "source": [
    "%matplotlib inline"
   ]
  },
  {
   "cell_type": "code",
   "execution_count": null,
   "metadata": {},
   "outputs": [],
   "source": [
    "import numpy as np\n",
    "\n",
    "\n",
    "fs = 20\n",
    "dt = 1.0 / fs\n",
    "f1 = 3\n",
    "f2 = 10\n",
    "tau = 12"
   ]
  },
  {
   "cell_type": "markdown",
   "metadata": {},
   "source": [
    "## Generation of a chirp\n",
    "We use `blocksim.dsp.DSPSignal.DSPSignal.fromLinearFM`"
   ]
  },
  {
   "cell_type": "code",
   "execution_count": null,
   "metadata": {},
   "outputs": [],
   "source": [
    "from blocksim.dsp.DSPSignal import DSPSignal\n",
    "\n",
    "chirp = DSPSignal.fromLinearFM(\n",
    "    \"sig\", samplingStart=0, samplingPeriod=dt, tau=tau, fstart=f1, fend=f2\n",
    ")\n",
    "t = chirp.generateXSerie()\n",
    "fchirp = (1 - t / tau) * f1 + t / tau * f2"
   ]
  },
  {
   "cell_type": "markdown",
   "metadata": {},
   "source": [
    "## Generation of a jammer"
   ]
  },
  {
   "cell_type": "markdown",
   "metadata": {},
   "source": [
    "After tau/2, the jammer emits a pure sinusoid at frequency f2. So this is a special case of a chirp with zero bandwith"
   ]
  },
  {
   "cell_type": "code",
   "execution_count": null,
   "metadata": {},
   "outputs": [],
   "source": [
    "jammer = DSPSignal.fromLinearFM(\n",
    "    \"jam\", samplingStart=tau / 2, samplingPeriod=dt, tau=tau / 2, fstart=f2, fend=f2\n",
    ")"
   ]
  },
  {
   "cell_type": "markdown",
   "metadata": {},
   "source": [
    "## Final signal\n",
    "The test signal is the superposition of the chirp and the jammer, with extra margins, and with some noise added"
   ]
  },
  {
   "cell_type": "code",
   "execution_count": null,
   "metadata": {},
   "outputs": [],
   "source": [
    "sig = (\n",
    "    (chirp + jammer)\n",
    "    .resample(\n",
    "        samplingStart=t[0] - 1,\n",
    "        samplingPeriod=dt,\n",
    "        samplingStop=t[-1] + 1,\n",
    "        zero_padding=True,\n",
    "    )\n",
    "    .applyGaussianNoise(0.5)\n",
    ")"
   ]
  },
  {
   "cell_type": "markdown",
   "metadata": {},
   "source": [
    "## Frequency Estimator\n",
    "We configure the frequency estimator `blocksim.control.Estimator.SpectrumEstimator`"
   ]
  },
  {
   "cell_type": "code",
   "execution_count": null,
   "metadata": {},
   "outputs": [],
   "source": [
    "from blocksim.control.Estimator import SpectrumEstimator\n",
    "\n",
    "tracks = np.arange(0, 20, 0.5) / fs\n",
    "nb_tracks = len(tracks)\n",
    "\n",
    "X = np.zeros(nb_tracks, dtype=np.complex128)\n",
    "kal = SpectrumEstimator(\n",
    "    name=\"kal\",\n",
    "    dt=dt,\n",
    "    shape_cmd=(1),\n",
    "    snames_output=[\"x_kal\"],\n",
    "    snames_state=[\"x_%i_est\" % i for i in range(nb_tracks)],\n",
    "    tracks=tracks * fs,\n",
    ")\n",
    "kal.matQ = np.eye(nb_tracks) / 10\n",
    "kal.matR = np.eye(1) / 10\n",
    "kal.setInitialStateForOutput(X, \"state\")"
   ]
  },
  {
   "cell_type": "markdown",
   "metadata": {},
   "source": [
    "## Simulation"
   ]
  },
  {
   "cell_type": "code",
   "execution_count": null,
   "metadata": {},
   "outputs": [],
   "source": [
    "from blocksim.control.SetPoint import Step\n",
    "from blocksim.Simulation import Simulation\n",
    "\n",
    "ctrl = Step(\"ctrl\", snames=[\"u\"], cons=np.zeros(1))\n",
    "\n",
    "sim = Simulation()\n",
    "\n",
    "sim.addComputer(ctrl)\n",
    "sim.addComputer(sig)\n",
    "sim.addComputer(kal)\n",
    "\n",
    "sim.connect(\"sig.setpoint\", \"kal.measurement\")\n",
    "sim.connect(\"ctrl.setpoint\", \"kal.command\")\n",
    "\n",
    "sim.simulate(sig.generateXSerie(), progress_bar=False)"
   ]
  },
  {
   "cell_type": "markdown",
   "metadata": {},
   "source": [
    "## Plotting\n",
    "We plot the spectrogram, which is computed by `blocksim.control.Estimator.SpectrumEstimator.getSpectrogram`. The spectrogram is an instance of `blocksim.dsp.DSPSpectrogram.DSPSpectrogram`. It has a method plot which allows to visualize the spectrogram"
   ]
  },
  {
   "cell_type": "code",
   "execution_count": null,
   "metadata": {},
   "outputs": [],
   "source": [
    "log = sim.getLogger()\n",
    "spg = kal.getSpectrogram(log)\n",
    "\n",
    "from blocksim.graphics import plotSpectrogram\n",
    "import matplotlib.pyplot as plt\n",
    "\n",
    "fig = plt.figure()\n",
    "axe = fig.add_subplot(111)\n",
    "_ = plotSpectrogram(spg, axe)\n",
    "axe.plot(\n",
    "    t,\n",
    "    fchirp,\n",
    "    linewidth=2,\n",
    "    color=\"white\",\n",
    "    linestyle=\"--\",\n",
    ")\n",
    "axe.set_xlabel(\"Time (s)\")\n",
    "axe.set_ylabel(\"Frequency (Hz)\")"
   ]
  }
 ],
 "metadata": {
  "kernelspec": {
   "display_name": "Python 3 (ipykernel)",
   "language": "python",
   "name": "python3"
  },
  "language_info": {
   "codemirror_mode": {
    "name": "ipython",
    "version": 3
   },
   "file_extension": ".py",
   "mimetype": "text/x-python",
   "name": "python",
   "nbconvert_exporter": "python",
   "pygments_lexer": "ipython3",
   "version": "3.8.13"
  }
 },
 "nbformat": 4,
 "nbformat_minor": 2
}
