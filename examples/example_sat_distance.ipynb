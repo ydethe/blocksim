{
 "cells": [
  {
   "cell_type": "code",
   "execution_count": 1,
   "metadata": {},
   "outputs": [],
   "source": [
    "import numpy as np"
   ]
  },
  {
   "cell_type": "code",
   "execution_count": 2,
   "metadata": {},
   "outputs": [
    {
     "name": "stderr",
     "output_type": "stream",
     "text": [
      "[INFO] - Registered blocksim_logger_rest.PsqlLogger\n",
      "[INFO] - Registered blocksim.loggers.CSVLogger\n",
      "[INFO] - Registered blocksim.loggers.PickleLogger\n",
      "[INFO] - Registered blocksim.loggers.XlsLogger\n"
     ]
    },
    {
     "data": {
      "text/plain": [
       "'iss'"
      ]
     },
     "execution_count": 2,
     "metadata": {},
     "output_type": "execute_result"
    }
   ],
   "source": [
    "from blocksim.satellite.Satellite import SGP4Satellite\n",
    "\n",
    "sat=SGP4Satellite.fromTLE('../tests/TLE/iss.tle')\n",
    "sat.getName()"
   ]
  },
  {
   "cell_type": "code",
   "execution_count": 3,
   "metadata": {},
   "outputs": [],
   "source": [
    "from blocksim.gnss.GNSSTracker import GNSSTracker\n",
    "from blocksim.utils import rad\n",
    "\n",
    "tkr=GNSSTracker(name='tkr',nsat=1)\n",
    "uere = 0.0\n",
    "ueve = 0.0\n",
    "tkr.elev_mask = rad(5.0)\n",
    "tkr.dp = 300.0\n",
    "tkr.dv = 50.0\n",
    "cov = np.diag([uere,ueve])**2\n",
    "tkr.setCovariance(cov, oname=\"measurement\")"
   ]
  },
  {
   "cell_type": "code",
   "execution_count": 4,
   "metadata": {},
   "outputs": [],
   "source": [
    "from blocksim.gnss.GNSSReceiver import GNSSReceiver\n",
    "\n",
    "rec=GNSSReceiver(name='rec',nsat=1,lon=4,lat=45,alt=200.,tsync=sat.tsync)\n",
    "rec.algo = \"no\""
   ]
  },
  {
   "cell_type": "code",
   "execution_count": 5,
   "metadata": {},
   "outputs": [],
   "source": [
    "from blocksim.Simulation import Simulation\n",
    "\n",
    "sim=Simulation(rec,tkr,sat)\n",
    "sim.connect(\"rec.realpos\", \"tkr.ueposition\")\n",
    "sim.connect(\"iss.itrf\", \"tkr.state\")\n",
    "sim.connect(\"tkr.measurement\", \"rec.measurements\")\n",
    "sim.connect(\"tkr.ephemeris\", \"rec.ephemeris\")"
   ]
  },
  {
   "cell_type": "code",
   "execution_count": 9,
   "metadata": {},
   "outputs": [
    {
     "data": {
      "text/plain": [
       "array([nan, nan, nan])"
      ]
     },
     "execution_count": 9,
     "metadata": {},
     "output_type": "execute_result"
    }
   ],
   "source": [
    "tps = np.linspace(0, 3, 3)\n",
    "sim.simulate(tps, progress_bar=False)\n",
    "\n",
    "log = sim.getLogger()\n",
    "\n",
    "d=log.getRawValue('tkr_measurement_pr0')"
   ]
  }
 ],
 "metadata": {
  "kernelspec": {
   "display_name": "Python 3.8.11 ('sim')",
   "language": "python",
   "name": "python3"
  },
  "language_info": {
   "codemirror_mode": {
    "name": "ipython",
    "version": 3
   },
   "file_extension": ".py",
   "mimetype": "text/x-python",
   "name": "python",
   "nbconvert_exporter": "python",
   "pygments_lexer": "ipython3",
   "version": "3.8.11"
  },
  "orig_nbformat": 4,
  "vscode": {
   "interpreter": {
    "hash": "1c95e8bdabb954ec18231ea1e1ecbf7fccc1ccf1732c9391ecdfd569b3ba9323"
   }
  }
 },
 "nbformat": 4,
 "nbformat_minor": 2
}
