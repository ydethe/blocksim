{
 "cells": [
  {
   "cell_type": "markdown",
   "id": "f818e9ff",
   "metadata": {},
   "source": [
    "# Propagation use-case"
   ]
  },
  {
   "cell_type": "code",
   "execution_count": null,
   "id": "da82e1ad",
   "metadata": {},
   "outputs": [],
   "source": [
    "import numpy as np\n",
    "from numpy import exp, pi\n",
    "from matplotlib import pyplot as plt\n",
    "\n",
    "from blocksim.control.SetPoint import Step, Ramp\n",
    "from blocksim.dsp.DSPSignal import DSPSignal\n",
    "from blocksim.graphics import plotDSPLine\n",
    "from blocksim.Simulation import Simulation\n",
    "\n",
    "from blocksim.constants import c\n",
    "from blocksim.dsp.DSPChannel import DSPChannel"
   ]
  },
  {
   "cell_type": "markdown",
   "id": "578c2147",
   "metadata": {},
   "source": [
    "We define the TX trajectory:\n",
    "\n",
    "* constant velocity of 2,119.85 m/s on X, 0 on Y and Z\n",
    "* initial position of -211,985.28 m on X and 211,985.28 m on Z"
   ]
  },
  {
   "cell_type": "code",
   "execution_count": null,
   "id": "8158fb9c",
   "metadata": {},
   "outputs": [],
   "source": [
    "vel0 = np.zeros(6)\n",
    "vel0[0] = 2119.85\n",
    "pos0 = np.zeros(6)\n",
    "pos0[0] = -211985.28\n",
    "pos0[2] = 211985.28\n",
    "pos0[3] = vel0[0]\n",
    "\n",
    "tx = Ramp(name=\"tx\", snames=[\"px\", \"py\", \"pz\", \"vx\", \"vy\", \"vz\"], slopes=vel0)\n",
    "tx.setInitialStateForOutput(initial_state=pos0, output_name=\"setpoint\")"
   ]
  },
  {
   "cell_type": "markdown",
   "id": "13ee9d01",
   "metadata": {},
   "source": [
    "The receiver (RX) is fixed on the ground at (0, 0, 0)"
   ]
  },
  {
   "cell_type": "code",
   "execution_count": null,
   "id": "97a9111d",
   "metadata": {},
   "outputs": [],
   "source": [
    "rx = Step(\n",
    "    name=\"rx\",\n",
    "    snames=[\"px\", \"py\", \"pz\", \"vx\", \"vy\", \"vz\"],\n",
    "    cons=np.zeros(6),\n",
    ")"
   ]
  },
  {
   "cell_type": "markdown",
   "id": "5dc02027",
   "metadata": {},
   "source": [
    "We set a gaussian propagation channel"
   ]
  },
  {
   "cell_type": "code",
   "execution_count": null,
   "id": "6375b17a",
   "metadata": {},
   "outputs": [],
   "source": [
    "chn = DSPChannel(\n",
    "    name=\"chn\",\n",
    "    wavelength=c / 2e9,\n",
    "    antenna_gain=0.0,\n",
    "    antenna_temp=290.0,\n",
    "    bandwidth=1e6,\n",
    "    noise_factor=2.5,\n",
    "    alpha=[0.3820e-7, 0.1490e-7, -0.1790e-6, 0.0000],\n",
    "    beta=[0.1430e6, 0.0000, -0.3280e6, 0.1130e6],\n",
    "    noatm=True,\n",
    ")"
   ]
  },
  {
   "cell_type": "markdown",
   "id": "f1b45435",
   "metadata": {},
   "source": [
    "We define a signal emitted by TX:\n",
    "\n",
    "* pure wave of 5 kHz\n",
    "* emission from t = 0 s to t = 1 ms\n",
    "* sampled at 100 kHz"
   ]
  },
  {
   "cell_type": "code",
   "execution_count": null,
   "id": "1fd2976c",
   "metadata": {},
   "outputs": [],
   "source": [
    "f0 = 5e3\n",
    "fs = 100e3\n",
    "tps = np.arange(100 * 5) / fs\n",
    "x = exp(1j * 2 * pi * f0 * tps) * 100\n",
    "inok = np.where(tps > 1e-3)[0]\n",
    "x[inok] = 0.0\n",
    "sig = DSPSignal.fromTimeAndSamples(name=\"sig\", tps=tps, y_serie=x)"
   ]
  },
  {
   "cell_type": "markdown",
   "id": "2b913988",
   "metadata": {},
   "source": [
    "We simulate the setup"
   ]
  },
  {
   "cell_type": "code",
   "execution_count": null,
   "id": "b657e2f4",
   "metadata": {},
   "outputs": [],
   "source": [
    "sim = Simulation([sig, tx, chn, rx])\n",
    "\n",
    "sim.connect(\"sig.setpoint\", \"chn.txsig\")\n",
    "sim.connect(\"tx.setpoint\", \"chn.txpos\")\n",
    "sim.connect(\"rx.setpoint\", \"chn.rxpos\")\n",
    "\n",
    "sim.simulate(tps, progress_bar=False)\n",
    "log = sim.getLogger()"
   ]
  },
  {
   "cell_type": "markdown",
   "id": "ef55d192",
   "metadata": {},
   "source": [
    "We get the received signal, and compute its FFT"
   ]
  },
  {
   "cell_type": "code",
   "execution_count": null,
   "id": "4f49b57f",
   "metadata": {},
   "outputs": [],
   "source": [
    "rxsig = log.getSignal(\"chn_rxsig_y\")\n",
    "sp = rxsig.fft()"
   ]
  },
  {
   "cell_type": "markdown",
   "id": "e2521888",
   "metadata": {},
   "source": [
    "We plot the signal and its FFT"
   ]
  },
  {
   "cell_type": "code",
   "execution_count": null,
   "id": "f15a364a",
   "metadata": {},
   "outputs": [],
   "source": [
    "fig = plt.figure()\n",
    "axe = fig.add_subplot(211)\n",
    "axe.grid(True)\n",
    "_ = plotDSPLine(rxsig, axe, transform=rxsig.to_db_lim(-200))\n",
    "\n",
    "axe = fig.add_subplot(212)\n",
    "axe.grid(True)\n",
    "_ = plotDSPLine(sp, axe)"
   ]
  }
 ],
 "metadata": {
  "kernelspec": {
   "display_name": "Python 3",
   "language": "python",
   "name": "python3"
  },
  "language_info": {
   "codemirror_mode": {
    "name": "ipython",
    "version": 3
   },
   "file_extension": ".py",
   "mimetype": "text/x-python",
   "name": "python",
   "nbconvert_exporter": "python",
   "pygments_lexer": "ipython3",
   "version": "3.8.13"
  }
 },
 "nbformat": 4,
 "nbformat_minor": 5
}
