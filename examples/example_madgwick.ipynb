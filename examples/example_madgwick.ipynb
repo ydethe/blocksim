{
 "cells": [
  {
   "cell_type": "markdown",
   "metadata": {},
   "source": [
    "# Madgwick attitude estimator\n",
    "## Main libraries import"
   ]
  },
  {
   "cell_type": "markdown",
   "metadata": {},
   "source": []
  },
  {
   "cell_type": "code",
   "execution_count": null,
   "metadata": {},
   "outputs": [],
   "source": [
    "%matplotlib inline\n",
    "import numpy as np\n",
    "from numpy import pi, sqrt\n",
    "\n",
    "from blocksim.control.System import G6DOFSystem\n",
    "from blocksim.control.IMU import IMU\n",
    "from blocksim.control.SetPoint import Step\n",
    "from blocksim.control.Estimator import MadgwickFilter\n",
    "from blocksim.utils import deg, euler_to_quat"
   ]
  },
  {
   "cell_type": "markdown",
   "metadata": {},
   "source": [
    "## Definition of a null Step function"
   ]
  },
  {
   "cell_type": "code",
   "execution_count": null,
   "metadata": {},
   "outputs": [],
   "source": [
    "from blocksim.control.SetPoint import Step\n",
    "\n",
    "ctrl = Step(name=\"ctrl\", snames=[\"u%i\" % i for i in range(6)], cons=np.zeros(6))"
   ]
  },
  {
   "cell_type": "markdown",
   "metadata": {},
   "source": [
    "## Definition of the dynamic system\n",
    "Initialisation of a G6DOFSystem, rotating about the pitch axis"
   ]
  },
  {
   "cell_type": "code",
   "execution_count": null,
   "metadata": {},
   "outputs": [],
   "source": [
    "from blocksim.control.System import G6DOFSystem\n",
    "\n",
    "sys = G6DOFSystem(\"sys\")\n",
    "\n",
    "angle_ini = -60 * np.pi / 180.0\n",
    "wangle = 10.0 * np.pi / 180.0\n",
    "x0 = np.zeros(13)\n",
    "x0[10:13] = np.array([0.0, wangle, 0.0])\n",
    "q = euler_to_quat(roll=0.0, pitch=angle_ini, yaw=pi / 2)\n",
    "x0[6:10] = q\n",
    "sys.setInitialStateForOutput(x0, \"state\")"
   ]
  },
  {
   "cell_type": "markdown",
   "metadata": {},
   "source": [
    "## Initialisation of a biased and noisy IMU"
   ]
  },
  {
   "cell_type": "code",
   "execution_count": null,
   "metadata": {},
   "outputs": [],
   "source": [
    "from blocksim.control.IMU import IMU\n",
    "\n",
    "imu = IMU(name=\"imu\")\n",
    "cov = np.diag(3 * [np.pi / 180] + 3 * [1e-3 * 9.81] + 3 * [1.0e-6])\n",
    "imu.setCovariance(cov)\n",
    "moy = np.zeros(9)\n",
    "moy[0] = 0.5 * np.pi / 180\n",
    "moy[1] = -1.0 * np.pi / 180\n",
    "moy[2] = 1.5 * np.pi / 180\n",
    "imu.setMean(moy)"
   ]
  },
  {
   "cell_type": "markdown",
   "metadata": {},
   "source": [
    "## Initialisation of the Madgwick attitude estimator"
   ]
  },
  {
   "cell_type": "code",
   "execution_count": null,
   "metadata": {},
   "outputs": [],
   "source": [
    "from blocksim.control.Estimator import MadgwickFilter\n",
    "\n",
    "est = MadgwickFilter(\"madg\", beta=2.0)\n",
    "est.setMagnetometerCalibration(offset=np.arange(3), softiron_matrix=np.eye(3) / 2)\n",
    "b, m = est.getMagnetometerCalibration()\n",
    "est.setMagnetometerCalibration(offset=np.zeros(3), softiron_matrix=np.eye(3))"
   ]
  },
  {
   "cell_type": "markdown",
   "metadata": {},
   "source": [
    "## Simulation and plotting"
   ]
  },
  {
   "cell_type": "code",
   "execution_count": null,
   "metadata": {},
   "outputs": [],
   "source": [
    "from blocksim.graphics import plotVerif\n",
    "from blocksim.Simulation import Simulation\n",
    "from matplotlib import pyplot as plt\n",
    "\n",
    "sim = Simulation()\n",
    "\n",
    "sim.addComputer(ctrl)\n",
    "sim.addComputer(sys)\n",
    "sim.addComputer(imu)\n",
    "sim.addComputer(est)\n",
    "\n",
    "sim.connect(\"ctrl.setpoint\", \"sys.command\")\n",
    "sim.connect(\"sys.state\", \"imu.state\")\n",
    "sim.connect(\"imu.measurement\", \"madg.measurement\")\n",
    "\n",
    "tfin = -2 * angle_ini / wangle\n",
    "tps = np.arange(0.0, tfin, 1e-2)\n",
    "w = angle_ini + tps * wangle\n",
    "\n",
    "sim.simulate(tps, progress_bar=False)\n",
    "log = sim.getLogger()\n",
    "\n",
    "plotVerif(\n",
    "    log,\n",
    "    \"Figure 1\",\n",
    "    [\n",
    "        {\"var\": \"deg(madg_euler_roll)\", \"label\": \"FilteredRoll\"},\n",
    "        {\"var\": \"deg(madg_euler_pitch)\", \"label\": \"FilteredPitch\"},\n",
    "        {\"var\": \"deg(madg_euler_yaw)\", \"label\": \"FilteredYaw\"},\n",
    "        {\n",
    "            \"var\": deg(w),\n",
    "            \"label\": \"Simu\",\n",
    "            \"color\": \"black\",\n",
    "            \"linestyle\": \"--\",\n",
    "        },\n",
    "    ],\n",
    ")\n",
    "\n",
    "plt.show()"
   ]
  }
 ],
 "metadata": {
  "language_info": {
   "name": "python"
  },
  "orig_nbformat": 4
 },
 "nbformat": 4,
 "nbformat_minor": 2
}
