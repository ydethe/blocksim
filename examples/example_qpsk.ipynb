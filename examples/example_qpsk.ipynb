{
 "cells": [
  {
   "cell_type": "markdown",
   "metadata": {},
   "source": [
    "# QPSK modulation\n",
    "## Main libraries import"
   ]
  },
  {
   "cell_type": "code",
   "execution_count": 1,
   "metadata": {},
   "outputs": [],
   "source": [
    "%matplotlib inline\n",
    "import numpy as np\n",
    "from numpy import log10, sqrt, pi\n",
    "from matplotlib import pyplot as plt"
   ]
  },
  {
   "cell_type": "markdown",
   "metadata": {},
   "source": [
    "## Instanciation of QPSK modulator and demodulator"
   ]
  },
  {
   "cell_type": "code",
   "execution_count": 2,
   "metadata": {},
   "outputs": [
    {
     "name": "stderr",
     "output_type": "stream",
     "text": [
      "[INFO] - Registered blocksim.loggers.CSVLogger\n",
      "[INFO] - Registered blocksim.loggers.PickleLogger\n",
      "[WARNING] - Failed to load blocksim.loggers.PsqlLogger\n",
      "[INFO] - Registered blocksim.loggers.XlsLogger\n"
     ]
    }
   ],
   "source": [
    "from blocksim.dsp.PSKMod import PSKMapping, PSKDemapping\n",
    "\n",
    "mapping = [pi / 4, 3 * pi / 4, 5 * pi / 4, 7 * pi / 4]\n",
    "qpsk_co = PSKMapping(name=\"map\", mapping=mapping, output_size=1)\n",
    "qpsk_dec = PSKDemapping(name=\"demap\", mapping=mapping, output_size=2)"
   ]
  },
  {
   "cell_type": "markdown",
   "metadata": {},
   "source": [
    "## Generation of the signal"
   ]
  },
  {
   "cell_type": "code",
   "execution_count": 3,
   "metadata": {},
   "outputs": [],
   "source": [
    "# Generation of a random bitstream\n",
    "ntot = 256\n",
    "data = np.random.randint(low=0, high=2, size=(qpsk_co.mu, ntot))\n",
    "\n",
    "# Generation of the QPSK stream of symbols\n",
    "qpsk_payload = qpsk_co.process(data)\n",
    "\n",
    "# Adding gaussian noise to the QPSK stream of symbols\n",
    "n = qpsk_payload.shape\n",
    "qpsk_payload += (np.random.normal(size=n) + 1j * np.random.normal(size=n)) * sqrt(\n",
    "    0.05 / 2\n",
    ")"
   ]
  },
  {
   "cell_type": "markdown",
   "metadata": {},
   "source": [
    "## Processing\n",
    "Demodulation of the noisy QPSK symbols stream and verification of the error"
   ]
  },
  {
   "cell_type": "code",
   "execution_count": 4,
   "metadata": {},
   "outputs": [
    {
     "name": "stdout",
     "output_type": "stream",
     "text": [
      "BER : 0.0%\n"
     ]
    }
   ],
   "source": [
    "m = qpsk_dec.process(qpsk_payload)\n",
    "err = np.abs(m - data)\n",
    "inok = np.where(err == 1)[0]\n",
    "ber = len(inok) / ntot\n",
    "print(\"BER : %.1f%%\" % (ber * 100))"
   ]
  },
  {
   "cell_type": "markdown",
   "metadata": {},
   "source": [
    "Plotting"
   ]
  },
  {
   "cell_type": "code",
   "execution_count": 5,
   "metadata": {},
   "outputs": [
    {
     "data": {
      "text/plain": [
       "<matplotlib.legend.Legend at 0x15dd59a60>"
      ]
     },
     "execution_count": 5,
     "metadata": {},
     "output_type": "execute_result"
    },
    {
     "data": {
      "image/png": "[encoded data removed]",
      "text/plain": [
       "<Figure size 432x288 with 1 Axes>"
      ]
     },
     "metadata": {
      "needs_background": "light"
     },
     "output_type": "display_data"
    }
   ],
   "source": [
    "fig = plt.figure()\n",
    "axe = fig.add_subplot(111)\n",
    "axe.grid(True)\n",
    "axe.set_aspect(\"equal\")\n",
    "axe.scatter(\n",
    "    np.real(qpsk_payload),\n",
    "    np.imag(qpsk_payload),\n",
    "    color=\"blue\",\n",
    "    marker=\"+\",\n",
    "    label=\"RX symbols\",\n",
    ")\n",
    "_ = qpsk_co.plotConstellation(axe)\n",
    "axe.legend(loc=\"best\")"
   ]
  }
 ],
 "metadata": {
  "kernelspec": {
   "display_name": "Python 3 (ipykernel)",
   "language": "python",
   "name": "python3"
  },
  "language_info": {
   "codemirror_mode": {
    "name": "ipython",
    "version": 3
   },
   "file_extension": ".py",
   "mimetype": "text/x-python",
   "name": "python",
   "nbconvert_exporter": "python",
   "pygments_lexer": "ipython3",
   "version": "3.8.13"
  }
 },
 "nbformat": 4,
 "nbformat_minor": 2
}
