{
 "cells": [
  {
   "cell_type": "markdown",
   "id": "aec5f3d6",
   "metadata": {},
   "source": [
    "## Deramping radar\n",
    "This example shows how to use a Kalman filter to estimate range and range rate from a raw radar measurement"
   ]
  },
  {
   "cell_type": "code",
   "execution_count": 11,
   "id": "ff48ae70",
   "metadata": {},
   "outputs": [],
   "source": [
    "from datetime import datetime, timezone\n",
    "\n",
    "import numpy as np\n",
    "from numpy import pi\n",
    "from matplotlib import pyplot as plt\n",
    "\n",
    "from blocksim.control.Estimator import (\n",
    "    TimeInvariantKalmanFilter,\n",
    "    SteadyStateKalmanFilter,\n",
    ")\n",
    "from blocksim.satellite.Satellite import CircleSatellite\n",
    "from blocksim.control.SetPoint import Step\n",
    "from blocksim.constants import c, Req\n",
    "from blocksim.utils import azeld_to_itrf, itrf_to_azeld\n",
    "from blocksim.Simulation import Simulation\n",
    "from blocksim.core.Node import AComputer, AWGNOutput\n",
    "from blocksim.graphics import plotFromLogger"
   ]
  },
  {
   "cell_type": "markdown",
   "id": "27bdcea6",
   "metadata": {},
   "source": [
    "## Setup configuration\n",
    "We first define a radar, that takes as input the real range and range rate. As output, it derives a noisy beat tone."
   ]
  },
  {
   "cell_type": "code",
   "execution_count": 12,
   "id": "4be83d3e",
   "metadata": {},
   "outputs": [],
   "source": [
    "class Radar(AComputer):\n",
    "    def __init__(self, name: str, B: float, T: float, wl: float):\n",
    "        super().__init__(name=name)\n",
    "        self.defineInput(\"rec\", shape=(6,), dtype=np.float64)\n",
    "        self.defineInput(\"sat\", shape=(6,), dtype=np.float64)\n",
    "        self.defineOutput(name=\"dv\", snames=[\"d\", \"v\"], dtype=np.float64)\n",
    "\n",
    "        otp = AWGNOutput(name=\"fb\", snames=[\"fb\"], dtype=np.float64)\n",
    "        otp.cov = np.eye(1) / T**2\n",
    "        otp.mean = np.zeros(1)\n",
    "        self.addOutput(otp)\n",
    "\n",
    "        self.createParameter(name=\"bandwidth\", value=B)\n",
    "        self.createParameter(name=\"tau\", value=T)\n",
    "        self.createParameter(name=\"wavelength\", value=wl)\n",
    "\n",
    "    def update(self, t1: float, t2: float, **inputs: dict) -> dict:\n",
    "        obs = inputs[\"rec\"]\n",
    "        sat = inputs[\"sat\"]\n",
    "        az, el, dist, azr, elr, vr = itrf_to_azeld(obs, sat)\n",
    "\n",
    "        fb = 2 * self.bandwidth / (self.tau * c) * dist + 1 / self.wavelength * vr\n",
    "\n",
    "        outputs = {}\n",
    "        outputs[\"dv\"] = np.array([dist, vr])\n",
    "        outputs[\"fb\"] = np.array([fb])\n",
    "\n",
    "        return outputs"
   ]
  },
  {
   "cell_type": "markdown",
   "id": "859a1d00",
   "metadata": {},
   "source": [
    "Then we define a Kalman estimator of range and range rate. The command will be a null step."
   ]
  },
  {
   "cell_type": "code",
   "execution_count": 13,
   "id": "af1e386d",
   "metadata": {},
   "outputs": [],
   "source": [
    "class DVEstimator(SteadyStateKalmanFilter):\n",
    "    def __init__(self, name: str, B: float, T: float, wl: float, dt: float):\n",
    "        super().__init__(\n",
    "            name=name,\n",
    "            shape_cmd=(1,),\n",
    "            snames_state=[\"d\", \"v\"],\n",
    "            snames_output=[\"fb\"],\n",
    "            dt=dt,\n",
    "        )\n",
    "        self.matA = np.array([[0, 1], [0, 0]], dtype=np.float64)\n",
    "        self.matB = np.array([[0, 0]], dtype=np.float64).T\n",
    "        self.matC = np.array([[2 * B / (T * c), 1 / wl]])\n",
    "        self.matD = np.array([[0]])\n",
    "        self.matQ = np.diag([c / (2 * B), wl / 2 / T]) ** 2\n",
    "        self.matR = np.eye(1) / T**2\n",
    "\n",
    "        self.createParameter(name=\"bandwidth\", value=B)\n",
    "        self.createParameter(name=\"tau\", value=T)\n",
    "        self.createParameter(name=\"wavelength\", value=wl)"
   ]
  },
  {
   "cell_type": "code",
   "execution_count": 14,
   "id": "d94df5f1",
   "metadata": {},
   "outputs": [],
   "source": [
    "cmd = Step(name=\"cmd\", snames=[\"u\"], cons=np.array([0]))"
   ]
  },
  {
   "cell_type": "markdown",
   "id": "0a26788e",
   "metadata": {},
   "source": [
    "The radar, located at the surface of Earth, observes a satellite"
   ]
  },
  {
   "cell_type": "code",
   "execution_count": 15,
   "id": "fcbd7357",
   "metadata": {},
   "outputs": [],
   "source": [
    "pv_obs = np.array([Req, 0, 0, 0, 0, 0])\n",
    "rec = Step(name=\"rec\", snames=[\"px\", \"py\", \"pz\", \"vx\", \"vy\", \"vz\"], cons=pv_obs)"
   ]
  },
  {
   "cell_type": "code",
   "execution_count": 16,
   "id": "eeaba096",
   "metadata": {},
   "outputs": [],
   "source": [
    "t0 = datetime(\n",
    "    year=2022, month=5, day=24, hour=13, minute=0, second=0, tzinfo=timezone.utc\n",
    ")\n",
    "pv = azeld_to_itrf(azeld=(pi / 2, pi / 4, 1000e3, 1, 0, -pi / 2), obs=pv_obs)\n",
    "sat = CircleSatellite.fromITRF(name=\"sat\", tsync=t0, pv_itrf=pv)"
   ]
  },
  {
   "cell_type": "markdown",
   "id": "6a3c598f",
   "metadata": {},
   "source": [
    "We instanciate the Kalman filter and the radar"
   ]
  },
  {
   "cell_type": "code",
   "execution_count": 17,
   "id": "c5dd1c2d",
   "metadata": {},
   "outputs": [],
   "source": [
    "B = 1.5e9\n",
    "T = 4e-3\n",
    "wl = c / 24.75e9\n",
    "dt = T\n",
    "\n",
    "kal = DVEstimator(\"kal\", B, T, wl, dt)\n",
    "\n",
    "rad = Radar(\"rad\", B, T, wl)"
   ]
  },
  {
   "cell_type": "markdown",
   "id": "2c2046fe",
   "metadata": {},
   "source": [
    "## Simulation"
   ]
  },
  {
   "cell_type": "code",
   "execution_count": 18,
   "id": "1c4eb605",
   "metadata": {},
   "outputs": [],
   "source": [
    "sim = Simulation(cmd, rad, kal, rec, sat)\n",
    "sim.connect(\"rec.setpoint\", \"rad.rec\")\n",
    "sim.connect(\"sat.itrf\", \"rad.sat\")\n",
    "sim.connect(\"rad.fb\", \"kal.measurement\")\n",
    "sim.connect(\"cmd.setpoint\", \"kal.command\")"
   ]
  },
  {
   "cell_type": "code",
   "execution_count": 19,
   "id": "e9f9fef3",
   "metadata": {},
   "outputs": [],
   "source": [
    "ns = int(10 / dt)\n",
    "tps = np.arange(ns) * dt\n",
    "\n",
    "sim.simulate(tps, progress_bar=False)\n",
    "log = sim.getLogger()"
   ]
  },
  {
   "cell_type": "markdown",
   "id": "7e370ea9",
   "metadata": {},
   "source": [
    "## Plotting"
   ]
  },
  {
   "cell_type": "code",
   "execution_count": 22,
   "id": "89bbd533",
   "metadata": {},
   "outputs": [
    {
     "data": {
      "text/plain": [
       "(1.0, 10.0)"
      ]
     },
     "execution_count": 22,
     "metadata": {},
     "output_type": "execute_result"
    },
    {
     "data": {
      "image/png": "[encoded data removed]",
      "text/plain": [
       "<Figure size 432x288 with 2 Axes>"
      ]
     },
     "metadata": {
      "needs_background": "light"
     },
     "output_type": "display_data"
    }
   ],
   "source": [
    "fig = plt.figure()\n",
    "gs = fig.add_gridspec(2, 1)\n",
    "\n",
    "axe = plotFromLogger(\n",
    "    log, id_x=\"t\", id_y=\"kal_state_d-rad_dv_d\", spec=gs[0, 0], label=\"kal-rad\"\n",
    ")\n",
    "axe.legend()\n",
    "axe.set_ylabel(\"Range error (m)\")\n",
    "axe.set_ylim(-0.3, 0.3)\n",
    "\n",
    "axe = plotFromLogger(\n",
    "    log,\n",
    "    id_x=\"t\",\n",
    "    id_y=\"kal_state_v-rad_dv_v\",\n",
    "    spec=gs[1, 0],\n",
    "    label=\"kal-rad\",\n",
    "    sharex=axe,\n",
    ")\n",
    "axe.legend()\n",
    "axe.set_xlabel(\"Time (s)\")\n",
    "axe.set_ylabel(\"Range rate error (m/s)\")\n",
    "axe.set_ylim(-7.5, 7.5)\n",
    "axe.set_xlim(1, 10)"
   ]
  }
 ],
 "metadata": {
  "kernelspec": {
   "display_name": "Python 3 (ipykernel)",
   "language": "python",
   "name": "python3"
  },
  "language_info": {
   "codemirror_mode": {
    "name": "ipython",
    "version": 3
   },
   "file_extension": ".py",
   "mimetype": "text/x-python",
   "name": "python",
   "nbconvert_exporter": "python",
   "pygments_lexer": "ipython3",
   "version": "3.8.9"
  }
 },
 "nbformat": 4,
 "nbformat_minor": 5
}
