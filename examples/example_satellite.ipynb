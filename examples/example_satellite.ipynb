{
 "cells": [
  {
   "cell_type": "markdown",
   "metadata": {},
   "source": [
    "# Satellite ground track"
   ]
  },
  {
   "cell_type": "code",
   "execution_count": null,
   "metadata": {},
   "outputs": [],
   "source": [
    "%matplotlib inline\n",
    "from datetime import datetime, timezone\n",
    "from pathlib import Path\n",
    "\n",
    "import numpy as np\n",
    "from numpy import cos, sin, sqrt, exp, pi\n",
    "from matplotlib import pyplot as plt"
   ]
  },
  {
   "cell_type": "markdown",
   "metadata": {},
   "source": [
    "## Creation of a satellite"
   ]
  },
  {
   "cell_type": "code",
   "execution_count": null,
   "metadata": {},
   "outputs": [],
   "source": [
    "from blocksim.source.Satellite import SGP4Satellite\n",
    "\n",
    "tle_pth = \"examples/iss.tle\"\n",
    "pt = (-74.0542275, 40.7004153)\n",
    "tsync = datetime(year=2022, month=1, day=1, hour=13, tzinfo=timezone.utc)\n",
    "iss = SGP4Satellite.fromTLE(tsync=tsync, tle_file=str(tle_pth))"
   ]
  },
  {
   "cell_type": "markdown",
   "metadata": {},
   "source": [
    "## Simulation"
   ]
  },
  {
   "cell_type": "code",
   "execution_count": null,
   "metadata": {},
   "outputs": [],
   "source": [
    "from blocksim.Simulation import Simulation\n",
    "\n",
    "sim = Simulation()\n",
    "sim.addComputer(iss)\n",
    "\n",
    "ns = 200\n",
    "tps = np.linspace(0, 14400, ns)\n",
    "sim.simulate(tps, progress_bar=False)"
   ]
  },
  {
   "cell_type": "markdown",
   "metadata": {},
   "source": [
    "## Plotting"
   ]
  },
  {
   "cell_type": "code",
   "execution_count": null,
   "metadata": {},
   "outputs": [],
   "source": [
    "from blocksim.graphics.EarthPlotter import EarthPlotter\n",
    "\n",
    "log = sim.getLogger()\n",
    "lon = log.getValue(\"deg(iss_subpoint_lon)\")\n",
    "lat = log.getValue(\"deg(iss_subpoint_lat)\")\n",
    "\n",
    "fig = plt.figure()\n",
    "ep = EarthPlotter()\n",
    "axe = ep.createAxe(fig)\n",
    "_ = ep.plotGroundTrack(axe, lon, lat)\n",
    "_ = ep.plotDeviceReach(axe, coord=pt, elev_min=pi / 8, sat_alt=600e3, color=\"red\")\n",
    "_ = ep.plotPoint(axe, coord=pt, marker=\"*\", color=\"red\")"
   ]
  }
 ],
 "metadata": {
  "kernelspec": {
   "display_name": "Python 3 (ipykernel)",
   "language": "python",
   "name": "python3"
  },
  "language_info": {
   "codemirror_mode": {
    "name": "ipython",
    "version": 3
   },
   "file_extension": ".py",
   "mimetype": "text/x-python",
   "name": "python",
   "nbconvert_exporter": "python",
   "pygments_lexer": "ipython3",
   "version": "3.9.7"
  }
 },
 "nbformat": 4,
 "nbformat_minor": 2
}
