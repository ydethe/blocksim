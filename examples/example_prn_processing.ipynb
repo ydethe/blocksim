{
 "cells": [
  {
   "cell_type": "markdown",
   "metadata": {},
   "source": [
    "# GPS PRN proccessing\n"
   ]
  },
  {
   "cell_type": "code",
   "execution_count": null,
   "metadata": {},
   "outputs": [],
   "source": [
    "%matplotlib inline"
   ]
  },
  {
   "cell_type": "markdown",
   "metadata": {},
   "source": [
    "## Creation of the signal"
   ]
  },
  {
   "cell_type": "code",
   "execution_count": null,
   "metadata": {},
   "outputs": [],
   "source": [
    "from blocksim.dsp.DSPSignal import DSPSignal\n",
    "from blocksim.dsp import createGoldSequence\n",
    "\n",
    "y1 = createGoldSequence(name=\"s1\", sv=[2, 6], repeat=1, chip_rate=1.023e6)\n",
    "y = createGoldSequence(name=\"s1\", sv=[2, 6], repeat=20, chip_rate=1.023e6)\n",
    "y = y.applyGaussianNoise(pwr=200)"
   ]
  },
  {
   "cell_type": "markdown",
   "metadata": {},
   "source": [
    "## Processing"
   ]
  },
  {
   "cell_type": "code",
   "execution_count": null,
   "metadata": {},
   "outputs": [],
   "source": [
    "# Correlation\n",
    "z = y.correlate(y1)\n",
    "\n",
    "# Integration\n",
    "zi = z.integrate(period=1e-3, offset=511 / (1.023e6))"
   ]
  },
  {
   "cell_type": "markdown",
   "metadata": {},
   "source": [
    "## Plotting"
   ]
  },
  {
   "cell_type": "code",
   "execution_count": null,
   "metadata": {},
   "outputs": [],
   "source": [
    "from matplotlib import pyplot as plt\n",
    "\n",
    "from blocksim.graphics import plotDSPLine\n",
    "\n",
    "fig = plt.figure()\n",
    "axe = fig.add_subplot(311)\n",
    "axe.grid(True)\n",
    "plotDSPLine(y, axe)\n",
    "axe.set_ylabel(\"Brut\")\n",
    "\n",
    "axe = fig.add_subplot(312)\n",
    "axe.grid(True)\n",
    "plotDSPLine(z, axe)\n",
    "axe.set_ylabel(\"Corrélation\")\n",
    "\n",
    "axe = fig.add_subplot(313)\n",
    "axe.grid(True)\n",
    "plotDSPLine(zi, axe, find_peaks=1)\n",
    "axe.set_ylabel(\"Intégration\")"
   ]
  }
 ],
 "metadata": {
  "language_info": {
   "name": "python"
  },
  "orig_nbformat": 4
 },
 "nbformat": 4,
 "nbformat_minor": 2
}
