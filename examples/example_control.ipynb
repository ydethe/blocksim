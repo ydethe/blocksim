{
 "cells": [
  {
   "cell_type": "markdown",
   "metadata": {},
   "source": [
    "# Damped spring-mass system with kalman estimator\n",
    "This case consists in :\n",
    "\n",
    "* a LTI system, named *sys* `blocksim.control.System.LTISystem`\n",
    "\n",
    "  This element simulates the system\n",
    "\n",
    "* a LQ regulator, named *ctl* `blocksim.control.Controller.LQRegulator`\n",
    "\n",
    "  This element compares the estimated state of the system and compares to the setpoint.\n",
    "  It controls the system so that it reaches the setpoint\n",
    "\n",
    "* a noisy biased sensor, named *cpt* `blocksim.control.Sensors.LinearSensors`\n",
    "\n",
    "  This element measures the position with noise and a constant bias\n",
    "\n",
    "* a Kalman filter , named *kal* `blocksim.control.Estimator.TimeInvariantKalmanFilter`\n",
    "\n",
    "  This version of the Kalman filter is the steady-state version : the matrix gain and state covariance matrix are fix in time.\n",
    "\n",
    "* a LQ regulator, named *ctl* `blocksim.control.Controller.LQRegulator`\n",
    "\n",
    "  This element compares the estimated state of the system and compares to the setpoint.\n",
    "  It controls the system so that it reaches the setpoint\n",
    "\n",
    "* a setpoint, named *stp* `blocksim.control.SetPoint.Step`\n",
    "  This element provides a user command such as a step or a ramp or a Dirac, ...\n",
    "  Here, we will use a unit step function"
   ]
  },
  {
   "cell_type": "code",
   "execution_count": 6,
   "metadata": {},
   "outputs": [],
   "source": [
    "%matplotlib inline\n",
    "import numpy as np\n",
    "import blocksim"
   ]
  },
  {
   "cell_type": "markdown",
   "metadata": {},
   "source": [
    "## Definition of the system\n",
    "Mass, spring and friction"
   ]
  },
  {
   "cell_type": "code",
   "execution_count": 7,
   "metadata": {},
   "outputs": [],
   "source": [
    "from blocksim.control.System import LTISystem\n",
    "\n",
    "m = 1.0  # Mass\n",
    "k = 40.0  # Spring rate\n",
    "f = 5\n",
    "\n",
    "sys = LTISystem(\"sys\", shape_command=(1,), snames_state=[\"x\", \"v\"])\n",
    "sys.matA = np.array([[0, 1], [-k / m, -f / m]])\n",
    "sys.matB = np.array([[0, 1 / m]]).T\n",
    "# We set the initial position to -1, and the initial velocity to 0\n",
    "sys.setInitialStateForOutput(np.array([-1.0, 0.0]), \"state\")"
   ]
  },
  {
   "cell_type": "markdown",
   "metadata": {},
   "source": [
    "## Definition of the Kalman filter, with converged gain matrix\n",
    "The state vector of the Kalman filter includes the bias of the position sensor"
   ]
  },
  {
   "cell_type": "code",
   "execution_count": 8,
   "metadata": {},
   "outputs": [],
   "source": [
    "from blocksim.control.Estimator import TimeInvariantKalmanFilter\n",
    "\n",
    "kal = TimeInvariantKalmanFilter(\n",
    "    \"kal\",\n",
    "    shape_cmd=(1,),  # Shape of the command vector\n",
    "    snames_state=[\"x\", \"v\", \"b\"],  # Components of the state vector\n",
    "    snames_output=[\"x\"],  # Components of the output vector\n",
    ")\n",
    "kal.matA = np.zeros((3, 3))\n",
    "kal.matA[:2, :2] = sys.matA\n",
    "kal.matB = np.zeros((3, 1))\n",
    "kal.matB[:2] = sys.matB\n",
    "kal.matC = np.array([[1, 0, 1]])\n",
    "kal.matD = np.zeros((1, 1))\n",
    "kal.matQ = np.eye(3) / 10000\n",
    "kal.matR = np.eye(1) / 100"
   ]
  },
  {
   "cell_type": "markdown",
   "metadata": {},
   "source": [
    "## Definition of a noisy biased sensor\n",
    "The sensor measures the position"
   ]
  },
  {
   "cell_type": "code",
   "execution_count": 9,
   "metadata": {},
   "outputs": [],
   "source": [
    "from blocksim.control.Sensors import ProportionalSensors\n",
    "\n",
    "bias = 0.5\n",
    "\n",
    "cpt = ProportionalSensors(\"cpt\", shape_state=(2,), snames=[\"x\"])\n",
    "cpt.matC = np.array([1, 0])\n",
    "cpt.setCovariance(np.eye(1) / 200)\n",
    "cpt.setMean(np.array([bias]))"
   ]
  },
  {
   "cell_type": "markdown",
   "metadata": {},
   "source": [
    "## Definition of a LQ regulator\n",
    "The controller determines the command"
   ]
  },
  {
   "cell_type": "code",
   "execution_count": 10,
   "metadata": {},
   "outputs": [
    {
     "ename": "ControlSlycot",
     "evalue": "can't find slycot module 'sb02md' or 'sb02nt'",
     "output_type": "error",
     "traceback": [
      "\u001b[0;31m---------------------------------------------------------------------------\u001b[0m",
      "\u001b[0;31mModuleNotFoundError\u001b[0m                       Traceback (most recent call last)",
      "\u001b[0;32m~/.venv/sim/lib/python3.8/site-packages/control/statefbk.py\u001b[0m in \u001b[0;36mlqr\u001b[0;34m(*args, **keywords)\u001b[0m\n\u001b[1;32m    441\u001b[0m     \u001b[0;32mtry\u001b[0m\u001b[0;34m:\u001b[0m\u001b[0;34m\u001b[0m\u001b[0;34m\u001b[0m\u001b[0m\n\u001b[0;32m--> 442\u001b[0;31m         \u001b[0;32mfrom\u001b[0m \u001b[0mslycot\u001b[0m \u001b[0;32mimport\u001b[0m \u001b[0msb02md\u001b[0m\u001b[0;34m\u001b[0m\u001b[0;34m\u001b[0m\u001b[0m\n\u001b[0m\u001b[1;32m    443\u001b[0m         \u001b[0;32mfrom\u001b[0m \u001b[0mslycot\u001b[0m \u001b[0;32mimport\u001b[0m \u001b[0msb02mt\u001b[0m\u001b[0;34m\u001b[0m\u001b[0;34m\u001b[0m\u001b[0m\n",
      "\u001b[0;31mModuleNotFoundError\u001b[0m: No module named 'slycot'",
      "\nDuring handling of the above exception, another exception occurred:\n",
      "\u001b[0;31mControlSlycot\u001b[0m                             Traceback (most recent call last)",
      "\u001b[0;32m<ipython-input-10-9ab90baa6fa0>\u001b[0m in \u001b[0;36m<module>\u001b[0;34m\u001b[0m\n\u001b[1;32m      8\u001b[0m \u001b[0mctl\u001b[0m\u001b[0;34m.\u001b[0m\u001b[0mmatQ\u001b[0m \u001b[0;34m=\u001b[0m \u001b[0mnp\u001b[0m\u001b[0;34m.\u001b[0m\u001b[0meye\u001b[0m\u001b[0;34m(\u001b[0m\u001b[0;36m2\u001b[0m\u001b[0;34m)\u001b[0m \u001b[0;34m/\u001b[0m \u001b[0;36m10000\u001b[0m\u001b[0;34m\u001b[0m\u001b[0;34m\u001b[0m\u001b[0m\n\u001b[1;32m      9\u001b[0m \u001b[0mctl\u001b[0m\u001b[0;34m.\u001b[0m\u001b[0mmatR\u001b[0m \u001b[0;34m=\u001b[0m \u001b[0mnp\u001b[0m\u001b[0;34m.\u001b[0m\u001b[0meye\u001b[0m\u001b[0;34m(\u001b[0m\u001b[0;36m1\u001b[0m\u001b[0;34m)\u001b[0m \u001b[0;34m/\u001b[0m \u001b[0;36m100\u001b[0m\u001b[0;34m\u001b[0m\u001b[0;34m\u001b[0m\u001b[0m\n\u001b[0;32m---> 10\u001b[0;31m \u001b[0mctl\u001b[0m\u001b[0;34m.\u001b[0m\u001b[0mcomputeGain\u001b[0m\u001b[0;34m(\u001b[0m\u001b[0;34m)\u001b[0m\u001b[0;34m\u001b[0m\u001b[0;34m\u001b[0m\u001b[0m\n\u001b[0m",
      "\u001b[0;32m~/blocksim/blocksim/control/Controller.py\u001b[0m in \u001b[0;36mcomputeGain\u001b[0;34m(self, precomp)\u001b[0m\n\u001b[1;32m    299\u001b[0m         \u001b[0mD\u001b[0m \u001b[0;34m=\u001b[0m \u001b[0mself\u001b[0m\u001b[0;34m.\u001b[0m\u001b[0mmatD\u001b[0m\u001b[0;34m\u001b[0m\u001b[0;34m\u001b[0m\u001b[0m\n\u001b[1;32m    300\u001b[0m \u001b[0;34m\u001b[0m\u001b[0m\n\u001b[0;32m--> 301\u001b[0;31m         \u001b[0mK\u001b[0m\u001b[0;34m,\u001b[0m \u001b[0mS\u001b[0m\u001b[0;34m,\u001b[0m \u001b[0mE\u001b[0m \u001b[0;34m=\u001b[0m \u001b[0mcontrol\u001b[0m\u001b[0;34m.\u001b[0m\u001b[0mlqr\u001b[0m\u001b[0;34m(\u001b[0m\u001b[0mA\u001b[0m\u001b[0;34m,\u001b[0m \u001b[0mB\u001b[0m\u001b[0;34m,\u001b[0m \u001b[0mQ\u001b[0m\u001b[0;34m,\u001b[0m \u001b[0mR\u001b[0m\u001b[0;34m)\u001b[0m\u001b[0;34m\u001b[0m\u001b[0;34m\u001b[0m\u001b[0m\n\u001b[0m\u001b[1;32m    302\u001b[0m \u001b[0;34m\u001b[0m\u001b[0m\n\u001b[1;32m    303\u001b[0m         \u001b[0mself\u001b[0m\u001b[0;34m.\u001b[0m\u001b[0mmatK\u001b[0m \u001b[0;34m=\u001b[0m \u001b[0mK\u001b[0m\u001b[0;34m\u001b[0m\u001b[0;34m\u001b[0m\u001b[0m\n",
      "\u001b[0;32m~/.venv/sim/lib/python3.8/site-packages/control/statefbk.py\u001b[0m in \u001b[0;36mlqr\u001b[0;34m(*args, **keywords)\u001b[0m\n\u001b[1;32m    443\u001b[0m         \u001b[0;32mfrom\u001b[0m \u001b[0mslycot\u001b[0m \u001b[0;32mimport\u001b[0m \u001b[0msb02mt\u001b[0m\u001b[0;34m\u001b[0m\u001b[0;34m\u001b[0m\u001b[0m\n\u001b[1;32m    444\u001b[0m     \u001b[0;32mexcept\u001b[0m \u001b[0mImportError\u001b[0m\u001b[0;34m:\u001b[0m\u001b[0;34m\u001b[0m\u001b[0;34m\u001b[0m\u001b[0m\n\u001b[0;32m--> 445\u001b[0;31m         \u001b[0;32mraise\u001b[0m \u001b[0mControlSlycot\u001b[0m\u001b[0;34m(\u001b[0m\u001b[0;34m\"can't find slycot module 'sb02md' or 'sb02nt'\"\u001b[0m\u001b[0;34m)\u001b[0m\u001b[0;34m\u001b[0m\u001b[0;34m\u001b[0m\u001b[0m\n\u001b[0m\u001b[1;32m    446\u001b[0m \u001b[0;34m\u001b[0m\u001b[0m\n\u001b[1;32m    447\u001b[0m     \u001b[0;31m#\u001b[0m\u001b[0;34m\u001b[0m\u001b[0;34m\u001b[0m\u001b[0;34m\u001b[0m\u001b[0m\n",
      "\u001b[0;31mControlSlycot\u001b[0m: can't find slycot module 'sb02md' or 'sb02nt'"
     ]
    }
   ],
   "source": [
    "from blocksim.control.Controller import LQRegulator\n",
    "\n",
    "ctl = LQRegulator(\"ctl\", shape_setpoint=(1,), shape_estimation=(2,), snames=[\"u\"])\n",
    "ctl.matA = sys.matA\n",
    "ctl.matB = sys.matB\n",
    "ctl.matC = kal.matC[:, :2]\n",
    "ctl.matD = kal.matD\n",
    "ctl.matQ = np.eye(2) / 10000\n",
    "ctl.matR = np.eye(1) / 100\n",
    "ctl.computeGain()"
   ]
  },
  {
   "cell_type": "markdown",
   "metadata": {},
   "source": [
    "## Definition of the setpoint : unit step function\n",
    "The setpoint is simple Heavyside function here"
   ]
  },
  {
   "cell_type": "code",
   "execution_count": null,
   "metadata": {},
   "outputs": [],
   "source": [
    "from blocksim.control.SetPoint import Step\n",
    "\n",
    "stp = Step(name=\"stp\", snames=[\"c\"], cons=np.array([1]))"
   ]
  },
  {
   "cell_type": "markdown",
   "metadata": {},
   "source": [
    "## Definition of a splitter\n",
    "The Kalman's state vector is x, v, b.\n",
    "But the controller expects an estimation of the system's state vector.\n",
    "So we need a splitter wich excludes the bias estimation"
   ]
  },
  {
   "cell_type": "code",
   "execution_count": null,
   "metadata": {},
   "outputs": [],
   "source": [
    "from blocksim.control.Route import Split\n",
    "\n",
    "spt_otp = dict()\n",
    "spt_otp[\"split\"] = [0, 1]  # We keep outputs 0 and 1 of the input vector\n",
    "split = Split(\"split\", signal_shape=(3,), outputs=spt_otp)"
   ]
  },
  {
   "cell_type": "markdown",
   "metadata": {},
   "source": [
    "## Simulation\n",
    "### Simulation setup"
   ]
  },
  {
   "cell_type": "code",
   "execution_count": null,
   "metadata": {},
   "outputs": [],
   "source": [
    "from blocksim.Simulation import Simulation\n",
    "from blocksim.graphics import plotGraph\n",
    "\n",
    "sim = Simulation()\n",
    "\n",
    "sim.addComputer(sys)\n",
    "sim.addComputer(ctl)\n",
    "sim.addComputer(cpt)\n",
    "sim.addComputer(kal)\n",
    "sim.addComputer(split)\n",
    "sim.addComputer(stp)\n",
    "\n",
    "# List of the connnections\n",
    "sim.connect(\"stp.setpoint\", \"ctl.setpoint\")\n",
    "sim.connect(\"ctl.command\", \"sys.command\")\n",
    "sim.connect(\"sys.state\", \"cpt.state\")\n",
    "sim.connect(\"cpt.measurement\", \"kal.measurement\")\n",
    "sim.connect(\"ctl.command\", \"kal.command\")\n",
    "sim.connect(\"kal.state\", \"split.signal\")\n",
    "sim.connect(\"split.split\", \"ctl.estimation\")\n",
    "\n",
    "# Plotting the simulation graph\n",
    "G = sim.computeGraph()\n",
    "plotGraph(G)"
   ]
  },
  {
   "cell_type": "markdown",
   "metadata": {},
   "source": [
    "### Running the simulation and plotting"
   ]
  },
  {
   "cell_type": "code",
   "execution_count": null,
   "metadata": {},
   "outputs": [],
   "source": [
    "dt = 0.05\n",
    "\n",
    "tps = np.arange(0, 4, dt)\n",
    "sim.simulate(tps, progress_bar=False)\n",
    "\n",
    "log = sim.getLogger()\n",
    "\n",
    "from blocksim.graphics import plotVerif\n",
    "from matplotlib import pyplot as plt\n",
    "\n",
    "_ = plotVerif(\n",
    "    log,\n",
    "    \"kalman\",\n",
    "    [\n",
    "        {\"var\": \"sys_state_x\"},\n",
    "        {\"var\": \"stp_setpoint_c\"},\n",
    "        {\"var\": \"kal_state_x\"},\n",
    "        {\"var\": \"cpt_measurement_x\", \"linestyle\": \"\", \"marker\": \"+\"},\n",
    "    ],\n",
    ")"
   ]
  }
 ],
 "metadata": {
  "kernelspec": {
   "display_name": "Python 3",
   "language": "python",
   "name": "python3"
  },
  "language_info": {
   "codemirror_mode": {
    "name": "ipython",
    "version": 3
   },
   "file_extension": ".py",
   "mimetype": "text/x-python",
   "name": "python",
   "nbconvert_exporter": "python",
   "pygments_lexer": "ipython3",
   "version": "3.8.13"
  }
 },
 "nbformat": 4,
 "nbformat_minor": 2
}
