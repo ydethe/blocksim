{
 "cells": [
  {
   "cell_type": "markdown",
   "metadata": {},
   "source": [
    "# Damped spring-mass system with kalman estimator\n",
    "This case consists in :\n",
    "\n",
    "* a LTI system, named *sys* `blocksim.control.System.LTISystem`\n",
    "\n",
    "  This element simulates the system\n",
    "\n",
    "* a LQ regulator, named *ctl* `blocksim.control.Controller.LQRegulator`\n",
    "\n",
    "  This element compares the estimated state of the system and compares to the setpoint.\n",
    "  It controls the system so that it reaches the setpoint\n",
    "\n",
    "* a noisy biased sensor, named *cpt* `blocksim.control.Sensors.LinearSensors`\n",
    "\n",
    "  This element measures the position with noise and a constant bias\n",
    "\n",
    "* a Kalman filter , named *kal* `blocksim.control.Estimator.TimeInvariantKalmanFilter`\n",
    "\n",
    "  This version of the Kalman filter is the steady-state version : the matrix gain and state covariance matrix are fix in time.\n",
    "\n",
    "* a LQ regulator, named *ctl* `blocksim.control.Controller.LQRegulator`\n",
    "\n",
    "  This element compares the estimated state of the system and compares to the setpoint.\n",
    "  It controls the system so that it reaches the setpoint\n",
    "\n",
    "* a setpoint, named *stp* `blocksim.control.SetPoint.Step`\n",
    "  This element provides a user command such as a step or a ramp or a Dirac, ...\n",
    "  Here, we will use a unit step function"
   ]
  },
  {
   "cell_type": "code",
   "execution_count": 2,
   "metadata": {},
   "outputs": [
    {
     "name": "stderr",
     "output_type": "stream",
     "text": [
      "[INFO] - Registered blocksim.loggers.CSVLogger\n",
      "[INFO] - Registered blocksim.loggers.PickleLogger\n",
      "[INFO] - Registered blocksim.loggers.XlsLogger\n"
     ]
    }
   ],
   "source": [
    "%matplotlib inline\n",
    "import numpy as np\n",
    "import blocksim"
   ]
  },
  {
   "cell_type": "markdown",
   "metadata": {},
   "source": [
    "## Definition of the system\n",
    "Mass, spring and friction"
   ]
  },
  {
   "cell_type": "code",
   "execution_count": 3,
   "metadata": {},
   "outputs": [],
   "source": [
    "from blocksim.control.System import LTISystem\n",
    "\n",
    "m = 1.0  # Mass\n",
    "k = 40.0  # Spring rate\n",
    "f = 5\n",
    "\n",
    "sys = LTISystem(\"sys\", shape_command=(1,), snames_state=[\"x\", \"v\"])\n",
    "sys.matA = np.array([[0, 1], [-k / m, -f / m]])\n",
    "sys.matB = np.array([[0, 1 / m]]).T\n",
    "# We set the initial position to -1, and the initial velocity to 0\n",
    "sys.setInitialStateForOutput(np.array([-1.0, 0.0]), \"state\")"
   ]
  },
  {
   "cell_type": "markdown",
   "metadata": {},
   "source": [
    "## Definition of the Kalman filter, with converged gain matrix\n",
    "The state vector of the Kalman filter includes the bias of the position sensor"
   ]
  },
  {
   "cell_type": "code",
   "execution_count": 4,
   "metadata": {},
   "outputs": [],
   "source": [
    "from blocksim.control.Estimator import TimeInvariantKalmanFilter\n",
    "\n",
    "kal = TimeInvariantKalmanFilter(\n",
    "    \"kal\",\n",
    "    shape_cmd=(1,),  # Shape of the command vector\n",
    "    snames_state=[\"x\", \"v\", \"b\"],  # Components of the state vector\n",
    "    snames_output=[\"x\"],  # Components of the output vector\n",
    ")\n",
    "kal.matA = np.zeros((3, 3))\n",
    "kal.matA[:2, :2] = sys.matA\n",
    "kal.matB = np.zeros((3, 1))\n",
    "kal.matB[:2] = sys.matB\n",
    "kal.matC = np.array([[1, 0, 1]])\n",
    "kal.matD = np.zeros((1, 1))\n",
    "kal.matQ = np.eye(3) / 10000\n",
    "kal.matR = np.eye(1) / 100"
   ]
  },
  {
   "cell_type": "markdown",
   "metadata": {},
   "source": [
    "## Definition of a noisy biased sensor\n",
    "The sensor measures the position"
   ]
  },
  {
   "cell_type": "code",
   "execution_count": 5,
   "metadata": {},
   "outputs": [],
   "source": [
    "from blocksim.control.Sensors import ProportionalSensors\n",
    "\n",
    "bias = 0.5\n",
    "\n",
    "cpt = ProportionalSensors(\"cpt\", shape_state=(2,), snames=[\"x\"])\n",
    "cpt.matC = np.array([1, 0])\n",
    "cpt.setCovariance(np.eye(1) / 200)\n",
    "cpt.setMean(np.array([bias]))"
   ]
  },
  {
   "cell_type": "markdown",
   "metadata": {},
   "source": [
    "## Definition of a LQ regulator\n",
    "The controller determines the command"
   ]
  },
  {
   "cell_type": "code",
   "execution_count": 6,
   "metadata": {},
   "outputs": [],
   "source": [
    "from blocksim.control.Controller import LQRegulator\n",
    "\n",
    "ctl = LQRegulator(\"ctl\", shape_setpoint=(1,), shape_estimation=(2,), snames=[\"u\"])\n",
    "ctl.matA = sys.matA\n",
    "ctl.matB = sys.matB\n",
    "ctl.matC = kal.matC[:, :2]\n",
    "ctl.matD = kal.matD\n",
    "ctl.matQ = np.eye(2) / 10000\n",
    "ctl.matR = np.eye(1) / 100"
   ]
  },
  {
   "cell_type": "markdown",
   "metadata": {},
   "source": [
    "## Definition of the setpoint : unit step function\n",
    "The setpoint is simple Heavyside function here"
   ]
  },
  {
   "cell_type": "code",
   "execution_count": 7,
   "metadata": {},
   "outputs": [],
   "source": [
    "from blocksim.control.SetPoint import Step\n",
    "\n",
    "stp = Step(name=\"stp\", snames=[\"c\"], cons=np.array([1]))"
   ]
  },
  {
   "cell_type": "markdown",
   "metadata": {},
   "source": [
    "## Definition of a splitter\n",
    "The Kalman's state vector is x, v, b.\n",
    "But the controller expects an estimation of the system's state vector.\n",
    "So we need a splitter wich excludes the bias estimation"
   ]
  },
  {
   "cell_type": "code",
   "execution_count": 8,
   "metadata": {},
   "outputs": [],
   "source": [
    "from blocksim.control.Route import Split\n",
    "\n",
    "spt_otp = dict()\n",
    "spt_otp[\"split\"] = [0, 1]  # We keep outputs 0 and 1 of the input vector\n",
    "split = Split(\"split\", signal_shape=(3,), outputs=spt_otp)"
   ]
  },
  {
   "cell_type": "markdown",
   "metadata": {},
   "source": [
    "## Simulation\n",
    "### Simulation setup"
   ]
  },
  {
   "cell_type": "code",
   "execution_count": 9,
   "metadata": {},
   "outputs": [
    {
     "data": {
      "image/png": "[encoded data removed]",
      "text/plain": [
       "<Figure size 432x288 with 1 Axes>"
      ]
     },
     "metadata": {},
     "output_type": "display_data"
    }
   ],
   "source": [
    "from blocksim.Simulation import Simulation\n",
    "from blocksim.graphics.BFigure import FigureFactory\n",
    "\n",
    "sim = Simulation()\n",
    "\n",
    "sim.addComputer(sys)\n",
    "sim.addComputer(ctl)\n",
    "sim.addComputer(cpt)\n",
    "sim.addComputer(kal)\n",
    "sim.addComputer(split)\n",
    "sim.addComputer(stp)\n",
    "\n",
    "# List of the connnections\n",
    "sim.connect(\"stp.setpoint\", \"ctl.setpoint\")\n",
    "sim.connect(\"ctl.command\", \"sys.command\")\n",
    "sim.connect(\"sys.state\", \"cpt.state\")\n",
    "sim.connect(\"cpt.measurement\", \"kal.measurement\")\n",
    "sim.connect(\"ctl.command\", \"kal.command\")\n",
    "sim.connect(\"kal.state\", \"split.signal\")\n",
    "sim.connect(\"split.split\", \"ctl.estimation\")\n",
    "\n",
    "# Plotting the simulation graph\n",
    "G = sim.computeGraph()\n",
    "fig = FigureFactory.create()\n",
    "gs = fig.add_gridspec(1, 1)\n",
    "axe = fig.add_baxe(title=\"\", spec=gs[0, 0])\n",
    "axe.plot(G)\n",
    "mfig = fig.render()"
   ]
  },
  {
   "cell_type": "markdown",
   "metadata": {},
   "source": [
    "### Running the simulation and plotting"
   ]
  },
  {
   "cell_type": "code",
   "execution_count": 10,
   "metadata": {},
   "outputs": [
    {
     "data": {
      "image/png": "[encoded data removed]",
      "text/plain": [
       "<Figure size 432x288 with 1 Axes>"
      ]
     },
     "metadata": {
      "needs_background": "light"
     },
     "output_type": "display_data"
    }
   ],
   "source": [
    "dt = 0.05\n",
    "\n",
    "tps = np.arange(0, 4, dt)\n",
    "sim.simulate(tps, progress_bar=False)\n",
    "\n",
    "log = sim.getLogger()\n",
    "\n",
    "from blocksim.graphics import plotVerif\n",
    "\n",
    "fig = plotVerif(\n",
    "    log,\n",
    "    \"kalman\",\n",
    "    [\n",
    "        {\"var\": \"sys_state_x\"},\n",
    "        {\"var\": \"stp_setpoint_c\"},\n",
    "        {\"var\": \"kal_state_x\"},\n",
    "        {\"var\": \"cpt_measurement_x\", \"linestyle\": \"\", \"marker\": \"+\"},\n",
    "    ],\n",
    ")\n",
    "mfig = fig.render()"
   ]
  }
 ],
 "metadata": {
  "interpreter": {
   "hash": "99eff1c768dda71303f6c5d8ad573c10d3d39dde2df5168abb55c0f9ab422aa7"
  },
  "kernelspec": {
   "display_name": "Python 3.10.4 ('sim')",
   "language": "python",
   "name": "python3"
  },
  "language_info": {
   "codemirror_mode": {
    "name": "ipython",
    "version": 3
   },
   "file_extension": ".py",
   "mimetype": "text/x-python",
   "name": "python",
   "nbconvert_exporter": "python",
   "pygments_lexer": "ipython3",
   "version": "3.10.4"
  }
 },
 "nbformat": 4,
 "nbformat_minor": 2
}
