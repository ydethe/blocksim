{
 "cells": [
  {
   "cell_type": "markdown",
   "id": "dad2e655",
   "metadata": {},
   "source": [
    "# GNSS simulation"
   ]
  },
  {
   "cell_type": "markdown",
   "id": "cb5920a4",
   "metadata": {},
   "source": [
    "## Constellation definition\n",
    "We take here GALILEO constellation, with TLE dated 12/04/2022 at 13h00"
   ]
  },
  {
   "cell_type": "code",
   "execution_count": 17,
   "id": "27b4580b",
   "metadata": {},
   "outputs": [],
   "source": [
    "from datetime import datetime, timezone\n",
    "from datetime import tzinfo\n",
    "import numpy as np\n",
    "from blocksim.satellite.Satellite import createSatellites\n",
    "\n",
    "t0 = datetime(\n",
    "    year=2022, month=4, day=12, hour=13, minute=0, second=0, tzinfo=timezone.utc\n",
    ")\n",
    "sats = createSatellites(tle_file=\"galileo.tle\", tsync=t0)\n",
    "nsat = len(sats)"
   ]
  },
  {
   "cell_type": "markdown",
   "id": "1d8fd75e",
   "metadata": {},
   "source": [
    "## GNSS tracker and receiver definition"
   ]
  },
  {
   "cell_type": "code",
   "execution_count": 18,
   "id": "c53ef94b",
   "metadata": {},
   "outputs": [],
   "source": [
    "from blocksim.gnss.GNSSTracker import GNSSTracker\n",
    "from blocksim.gnss.GNSSReceiver import GNSSReceiver\n",
    "from blocksim.utils import rad\n",
    "\n",
    "tkr = GNSSTracker(name=\"tkr\", nsat=nsat)\n",
    "uere = 0.0\n",
    "ueve = 0.0\n",
    "tkr.elev_mask = rad(5.0)\n",
    "tkr.dp = 300.0\n",
    "tkr.dv = 50.0\n",
    "cov = np.zeros((2 * nsat, 2 * nsat))\n",
    "for k in range(nsat):\n",
    "    cov[2 * k, 2 * k] = uere**2\n",
    "    cov[2 * k + 1, 2 * k + 1] = ueve**2\n",
    "tkr.setCovariance(cov, oname=\"measurement\")\n",
    "\n",
    "rec = GNSSReceiver(\n",
    "    name=\"rec\",\n",
    "    nsat=nsat,\n",
    "    lon=rad(43.60510103575826),\n",
    "    lat=rad(1.4439216490854043),\n",
    "    alt=0,\n",
    "    tsync=t0,\n",
    ")\n",
    "rec.algo = \"ranging\"\n",
    "rec.optim = \"trust-constr\""
   ]
  },
  {
   "cell_type": "markdown",
   "id": "5325ecc9",
   "metadata": {},
   "source": [
    "## Simulation setup"
   ]
  },
  {
   "cell_type": "code",
   "execution_count": 19,
   "id": "b5679515",
   "metadata": {},
   "outputs": [],
   "source": [
    "from blocksim.Simulation import Simulation\n",
    "from blocksim.control.Route import Group\n",
    "\n",
    "nom_coord = [\"px\", \"py\", \"pz\", \"vx\", \"vy\", \"vz\"]\n",
    "\n",
    "grp_snames = []\n",
    "grp_inp = dict()\n",
    "for k, sat in enumerate(sats):\n",
    "    grp_inp[\"itrf%i\" % k] = (6,)\n",
    "    grp_snames.extend([\"%s%i\" % (n, k) for n in nom_coord])\n",
    "\n",
    "# The Group so defined let us gather all the outputs of the satellites into one \"wire\" that feeds the tracker\n",
    "grp = Group(\n",
    "    \"grp\",\n",
    "    inputs=grp_inp,\n",
    "    snames=grp_snames,\n",
    ")\n",
    "\n",
    "sim = Simulation(*sats)\n",
    "sim.addComputer(tkr)\n",
    "sim.addComputer(rec)\n",
    "sim.addComputer(grp)\n",
    "\n",
    "# Then we do the connections\n",
    "for k, sat in enumerate(sats):\n",
    "    sim.connect(\"%s.itrf\" % sat.getName(), \"grp.itrf%i\" % k)\n",
    "\n",
    "sim.connect(\"rec.realpos\", \"tkr.ueposition\")\n",
    "sim.connect(\"grp.grouped\", \"tkr.state\")\n",
    "sim.connect(\"tkr.measurement\", \"rec.measurements\")\n",
    "sim.connect(\"tkr.ephemeris\", \"rec.ephemeris\")"
   ]
  },
  {
   "cell_type": "markdown",
   "id": "f1f10187",
   "metadata": {},
   "source": [
    "## Simulation and results"
   ]
  },
  {
   "cell_type": "code",
   "execution_count": 20,
   "id": "1839e7f5",
   "metadata": {},
   "outputs": [
    {
     "name": "stdout",
     "output_type": "stream",
     "text": [
      "43.60510103575997 1.4439216555549719 4.168599843978882e-06\n",
      "299.999997292144\n",
      "12\n"
     ]
    }
   ],
   "source": [
    "from blocksim.utils import itrf_to_geodetic, deg\n",
    "\n",
    "tps = np.linspace(0, 3, 3)\n",
    "sim.simulate(tps, progress_bar=False)\n",
    "\n",
    "log = sim.getLogger()\n",
    "\n",
    "# Computed ITRF position\n",
    "x = log.getValue(\"rec_estpos_px\")[-1]\n",
    "y = log.getValue(\"rec_estpos_py\")[-1]\n",
    "z = log.getValue(\"rec_estpos_pz\")[-1]\n",
    "lon, lat, alt = itrf_to_geodetic((x, y, z))\n",
    "print(deg(lon), deg(lat), alt)\n",
    "\n",
    "# Estimate range bias\n",
    "dp_est = log.getValue(\"rec_estclkerror_dp\")[-1]\n",
    "print(dp_est)\n",
    "\n",
    "# Number of visible satellites\n",
    "vissat = log.getValue(\"tkr_vissat_n\")[-1]\n",
    "print(vissat)"
   ]
  }
 ],
 "metadata": {
  "interpreter": {
   "hash": "99eff1c768dda71303f6c5d8ad573c10d3d39dde2df5168abb55c0f9ab422aa7"
  },
  "kernelspec": {
   "display_name": "Python 3.10.4 ('sim')",
   "language": "python",
   "name": "python3"
  },
  "language_info": {
   "codemirror_mode": {
    "name": "ipython",
    "version": 3
   },
   "file_extension": ".py",
   "mimetype": "text/x-python",
   "name": "python",
   "nbconvert_exporter": "python",
   "pygments_lexer": "ipython3",
   "version": "3.10.4"
  }
 },
 "nbformat": 4,
 "nbformat_minor": 5
}
