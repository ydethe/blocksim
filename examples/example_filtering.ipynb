{
 "cells": [
  {
   "cell_type": "markdown",
   "id": "5c0fb7c8",
   "metadata": {},
   "source": [
    "# FIR filtering"
   ]
  },
  {
   "cell_type": "markdown",
   "id": "55d26de6",
   "metadata": {},
   "source": [
    "## Main libraries import"
   ]
  },
  {
   "cell_type": "code",
   "execution_count": null,
   "id": "337eb72e",
   "metadata": {},
   "outputs": [],
   "source": [
    "%matplotlib inline"
   ]
  },
  {
   "cell_type": "code",
   "execution_count": null,
   "id": "c931c94d",
   "metadata": {},
   "outputs": [],
   "source": [
    "import numpy as np\n",
    "from numpy import pi, exp\n",
    "from matplotlib import pyplot as plt"
   ]
  },
  {
   "cell_type": "markdown",
   "id": "ad40ab82",
   "metadata": {},
   "source": [
    "## Definition of the filter\n",
    "We define a FIR pass-band filter between f1 (Hz) and f2 (Hz)\n",
    "A Chebychev window is applied to lower the side-lobes"
   ]
  },
  {
   "cell_type": "code",
   "execution_count": null,
   "id": "d785460d",
   "metadata": {},
   "outputs": [],
   "source": [
    "from blocksim.dsp.DSPFilter import BandpassDSPFilter\n",
    "\n",
    "fs = 200\n",
    "f1 = 10\n",
    "f2 = 30\n",
    "filt = BandpassDSPFilter(\n",
    "    name=\"filter\",\n",
    "    f_low=f1,\n",
    "    f_high=f2,\n",
    "    samplingPeriod=1 / fs,\n",
    "    numtaps=256,\n",
    "    win=(\"chebwin\", -60),\n",
    ")"
   ]
  },
  {
   "cell_type": "markdown",
   "id": "555b5266",
   "metadata": {},
   "source": [
    "We plot the Bode diagram"
   ]
  },
  {
   "cell_type": "code",
   "execution_count": null,
   "id": "4031d9e3",
   "metadata": {},
   "outputs": [],
   "source": [
    "from blocksim.graphics import plotBode\n",
    "\n",
    "fig = plt.figure()\n",
    "axe_amp = fig.add_subplot(211)\n",
    "axe_pha = fig.add_subplot(212, sharex=axe_amp)\n",
    "\n",
    "plotBode(filt, axe_amp, axe_pha)"
   ]
  },
  {
   "cell_type": "markdown",
   "id": "b8d5a08f",
   "metadata": {},
   "source": [
    "## Application of the filter\n",
    "We construct s1 as a signal with f0 and 3*f0 frequencies"
   ]
  },
  {
   "cell_type": "code",
   "execution_count": null,
   "id": "7447e98a",
   "metadata": {},
   "outputs": [],
   "source": [
    "from blocksim.graphics import plotDSPLine\n",
    "from blocksim.dsp.DSPSignal import DSPSignal\n",
    "\n",
    "f0 = 20\n",
    "ns = 200\n",
    "t1 = np.arange(ns) / fs\n",
    "x1 = exp(1j * 2 * pi * f0 * t1) + exp(1j * 2 * pi * 3 * f0 * t1)\n",
    "s1 = DSPSignal(name=\"s1\", samplingStart=0, samplingPeriod=1 / fs, y_serie=x1)"
   ]
  },
  {
   "cell_type": "markdown",
   "id": "a423511b",
   "metadata": {},
   "source": [
    "s2 is the expected signal at the output of the filter"
   ]
  },
  {
   "cell_type": "code",
   "execution_count": null,
   "id": "854f9565",
   "metadata": {},
   "outputs": [],
   "source": [
    "x2 = exp(1j * 2 * pi * f0 * t1)\n",
    "s2 = DSPSignal(name=\"s2\", samplingStart=0, samplingPeriod=1 / fs, y_serie=x2)"
   ]
  },
  {
   "cell_type": "markdown",
   "id": "e7add883",
   "metadata": {},
   "source": [
    "## Simulation of the setup"
   ]
  },
  {
   "cell_type": "code",
   "execution_count": null,
   "id": "d466c169",
   "metadata": {},
   "outputs": [],
   "source": [
    "from blocksim.Simulation import Simulation\n",
    "\n",
    "sim = Simulation()\n",
    "\n",
    "sim.addComputer(filt)\n",
    "sim.addComputer(s1)\n",
    "sim.connect(\"s1.setpoint\", \"filter.unfilt\")\n",
    "\n",
    "tps = s1.generateXSerie()\n",
    "sim.simulate(tps, progress_bar=False)\n",
    "log = sim.getLogger()\n",
    "y = DSPSignal.fromLogger(name=\"filt\", log=log, param=\"filter_filt_sample\")"
   ]
  },
  {
   "cell_type": "code",
   "execution_count": null,
   "id": "f1c5b346",
   "metadata": {},
   "outputs": [],
   "source": [
    "y = y.forceSamplingStart(-filt.getTransientPhaseDuration())"
   ]
  },
  {
   "cell_type": "markdown",
   "id": "547a2c89",
   "metadata": {},
   "source": [
    "We plot s2 and y"
   ]
  },
  {
   "cell_type": "code",
   "execution_count": null,
   "id": "1b319db4",
   "metadata": {},
   "outputs": [],
   "source": [
    "fig = plt.figure()\n",
    "axe = fig.add_subplot(111)\n",
    "\n",
    "_ = plotDSPLine(y, axe, label=\"Output (y)\")\n",
    "_ = plotDSPLine(s2, axe, label=\"Expected (s2)\")\n",
    "axe.legend()"
   ]
  }
 ],
 "metadata": {
  "kernelspec": {
   "display_name": "Python 3 (ipykernel)",
   "language": "python",
   "name": "python3"
  },
  "language_info": {
   "codemirror_mode": {
    "name": "ipython",
    "version": 3
   },
   "file_extension": ".py",
   "mimetype": "text/x-python",
   "name": "python",
   "nbconvert_exporter": "python",
   "pygments_lexer": "ipython3",
   "version": "3.8.13"
  }
 },
 "nbformat": 4,
 "nbformat_minor": 5
}
