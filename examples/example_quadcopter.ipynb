{
 "cells": [
  {
   "cell_type": "markdown",
   "id": "c8e77f12",
   "metadata": {},
   "source": [
    "# Example of a quadcopter UAV"
   ]
  },
  {
   "cell_type": "markdown",
   "id": "2cb6c370",
   "metadata": {},
   "source": [
    "The modelling here is heavily inspired from http://www.gipsa-lab.grenoble-inp.fr/~nicolas.marchand/teaching/Nonlinear_PSPI.pdf"
   ]
  },
  {
   "cell_type": "markdown",
   "id": "21c70a03",
   "metadata": {},
   "source": [
    "<img src=\"quadcopter.png\" alt=\"drawing\" width=\"200\"/>"
   ]
  },
  {
   "cell_type": "markdown",
   "id": "a2bbdfd9",
   "metadata": {},
   "source": [
    "The motor 1 is at the front, the motor 2 is at the right, etc.\n",
    "\n",
    "$ s_i $ is the rotation speed for the motor i\n",
    "\n",
    "$ F_i $ is the force deployed by the motor i and its propeller\n",
    "\n",
    "$ l $ is the length of one arm, from the COM to the motor axis"
   ]
  },
  {
   "cell_type": "markdown",
   "id": "24b4cebc",
   "metadata": {},
   "source": [
    "Roll torque is generated with a dissymmetry between left and right forces: $ \\Gamma_r=l.(F_4−F_2) $"
   ]
  },
  {
   "cell_type": "markdown",
   "id": "5ca0e864",
   "metadata": {},
   "source": [
    "Pitch torque is generated with a dissymmetry between front and rear forces: $ \\Gamma_p=l.(F_1−F_3) $"
   ]
  },
  {
   "cell_type": "markdown",
   "id": "b164abaf",
   "metadata": {},
   "source": [
    "Yaw torque is generated with a dissymmetry between front/rear and left/right torques: $ \\Gamma_y=\\Gamma_1+\\Gamma_3−\\Gamma_2−\\Gamma_4 $"
   ]
  },
  {
   "cell_type": "markdown",
   "id": "facd9b50",
   "metadata": {},
   "source": [
    "For one motor, we use an **approximation** of a first order system:\n",
    "    \n",
    "$ \\dot{s} = -\\frac{k_m^2}{J_r.R}.s - \\frac{1}{J_r}.\\tau_{load} + \\frac{k_m}{J_r.R}.sat_{\\bar{U}}(U) $\n",
    "\n",
    "where :\n",
    "\n",
    "* $ s $ is the rotation speed\n",
    "* $ U $ is the voltage applied to the motor (command variable)\n",
    "* $ \\tau_{load} $ is the motor load : $ \\tau_{load} = k_{gb}.\\kappa.s.|s| $"
   ]
  },
  {
   "cell_type": "markdown",
   "id": "7c009007",
   "metadata": {},
   "source": [
    "In summary :\n",
    "\n",
    "* $ F = b.(s_1^2 +s_2^2+s_3^2+s_4^2)$\n",
    "* $ \\Gamma_r = l.b.(s_4^2-s_2^2) $\n",
    "* $ \\Gamma_p = l.b.(s_1^2 - s_3^2) $\n",
    "* $ \\Gamma_y = \\kappa.(s_1^2+s_3^2-s_2^2-s_4^2) $"
   ]
  },
  {
   "cell_type": "markdown",
   "id": "084b8d74",
   "metadata": {},
   "source": [
    "## Quadcopter definition\n",
    "We start with the 4 motors"
   ]
  },
  {
   "cell_type": "markdown",
   "id": "ff1dc9b8",
   "metadata": {},
   "source": [
    "### The motors"
   ]
  },
  {
   "cell_type": "code",
   "execution_count": 1,
   "id": "345c5f5d",
   "metadata": {},
   "outputs": [],
   "source": [
    "from blocksim.quadcopter.Motor import Motor\n",
    "\n",
    "mot0 = Motor(prefix=\"mot\", num=0)\n",
    "mot1 = Motor(prefix=\"mot\", num=1)\n",
    "mot2 = Motor(prefix=\"mot\", num=2)\n",
    "mot3 = Motor(prefix=\"mot\", num=3)"
   ]
  },
  {
   "cell_type": "markdown",
   "id": "e37aa241",
   "metadata": {},
   "source": [
    "We use a AntiWindupPIDController to control the motors' speed"
   ]
  },
  {
   "cell_type": "code",
   "execution_count": 2,
   "id": "169edb28",
   "metadata": {},
   "outputs": [],
   "source": [
    "from blocksim.control.Controller import AntiWindupPIDController\n",
    "\n",
    "tau = 50e-3\n",
    "Ks = 0.0\n",
    "\n",
    "l_ctl_mot = []\n",
    "for imot in range(4):\n",
    "    ctl_mot = AntiWindupPIDController(\n",
    "        f\"ctlmot{imot}\", snames=[\"u\"], shape_estimation=(2,)\n",
    "    )\n",
    "    ctl_mot.D = 0.0\n",
    "    ctl_mot.I = mot0.km / tau\n",
    "    ctl_mot.P = ctl_mot.I * mot0.Jr * mot0.R / mot0.km**2\n",
    "    ctl_mot.Ks = Ks\n",
    "    ctl_mot.Umin = -mot0.Umax\n",
    "    ctl_mot.Umax = mot0.Umax\n",
    "    l_ctl_mot.append(ctl_mot)"
   ]
  },
  {
   "cell_type": "code",
   "execution_count": 3,
   "id": "6debf9e2",
   "metadata": {},
   "outputs": [],
   "source": [
    "import numpy as np\n",
    "\n",
    "from blocksim.Simulation import Simulation\n",
    "from blocksim.graphics.BFigure import FigureFactory\n",
    "from blocksim.graphics.GraphicSpec import AxeProjection\n",
    "\n",
    "sim = Simulation(*l_ctl_mot)\n",
    "sim.addComputer(mot0, mot1, mot2, mot3)\n",
    "\n",
    "# We could have made the connections in the previous loop\n",
    "sim.connect(\"ctlmot0.command\", \"mot0.command\")\n",
    "sim.connect(\"ctlmot1.command\", \"mot1.command\")\n",
    "sim.connect(\"ctlmot2.command\", \"mot2.command\")\n",
    "sim.connect(\"ctlmot3.command\", \"mot3.command\")\n",
    "sim.connect(\"mot0.vel\", \"ctlmot0.estimation\")\n",
    "sim.connect(\"mot1.vel\", \"ctlmot1.estimation\")\n",
    "sim.connect(\"mot2.vel\", \"ctlmot2.estimation\")\n",
    "sim.connect(\"mot3.vel\", \"ctlmot3.estimation\")"
   ]
  },
  {
   "cell_type": "code",
   "execution_count": 4,
   "id": "f7a7b361",
   "metadata": {},
   "outputs": [
    {
     "data": {
      "image/png": "[encoded data removed]",
      "text/plain": [
       "<Figure size 432x288 with 1 Axes>"
      ]
     },
     "metadata": {},
     "output_type": "display_data"
    }
   ],
   "source": [
    "g = sim.computeGraph()\n",
    "\n",
    "fig = FigureFactory.create()\n",
    "gs = fig.add_gridspec(1, 1)\n",
    "axe = fig.add_baxe(title=\"\", spec=gs[0, 0], projection=AxeProjection.GRAPH)\n",
    "axe.plot(g)\n",
    "mfig = fig.render()"
   ]
  },
  {
   "cell_type": "markdown",
   "id": "0c15b567",
   "metadata": {},
   "source": [
    "### Motor simulation"
   ]
  },
  {
   "cell_type": "code",
   "execution_count": 5,
   "id": "9f14314b",
   "metadata": {},
   "outputs": [],
   "source": [
    "from blocksim.control.SetPoint import Step\n",
    "\n",
    "stp = Step(name=\"stp\", snames=[\"c\"], cons=np.array([1]))\n",
    "\n",
    "sim.addComputer(stp)\n",
    "sim.connect(\"stp.setpoint\", \"ctlmot0.setpoint\")\n",
    "\n",
    "tps = np.arange(0, 1, 0.01)\n",
    "sim.simulate(tps, progress_bar=False, error_on_unconnected=False)"
   ]
  },
  {
   "cell_type": "code",
   "execution_count": 6,
   "id": "bb1dd8a2",
   "metadata": {},
   "outputs": [
    {
     "data": {
      "image/png": "[encoded data removed]",
      "text/plain": [
       "<Figure size 432x288 with 1 Axes>"
      ]
     },
     "metadata": {
      "needs_background": "light"
     },
     "output_type": "display_data"
    }
   ],
   "source": [
    "from blocksim.graphics import plotVerif\n",
    "\n",
    "log = sim.getLogger()\n",
    "fig = plotVerif(\n",
    "    log,\n",
    "    \"Figure 1\",\n",
    "    [{\"var\": \"stp_setpoint_c\"}, {\"var\": \"mot0_state_s\"}],\n",
    ")\n",
    "mfig = fig.render()"
   ]
  },
  {
   "cell_type": "code",
   "execution_count": 7,
   "id": "86e2c5f2",
   "metadata": {},
   "outputs": [],
   "source": [
    "sim.removeComputer(stp)"
   ]
  },
  {
   "cell_type": "markdown",
   "id": "a6d6af13",
   "metadata": {},
   "source": [
    "### Quadcopter"
   ]
  },
  {
   "cell_type": "code",
   "execution_count": 8,
   "id": "5ba17518",
   "metadata": {},
   "outputs": [],
   "source": [
    "from blocksim.quadcopter.Quadri import Quadri\n",
    "\n",
    "sys = Quadri(name=\"sys\", mot=mot0)\n",
    "x0 = sys.getInitialStateForOutput(\"state\")\n",
    "x0[:6] = np.array([0, 0, 0, 2.349619, -2.409138, 4.907362])\n",
    "w0 = np.array([2, -1, 3]) / 2\n",
    "x0[10:13] = w0\n",
    "sys.setInitialStateForOutput(x0, \"state\")\n",
    "\n",
    "sim.addComputer(sys)"
   ]
  },
  {
   "cell_type": "markdown",
   "id": "74124b74",
   "metadata": {},
   "source": [
    "We group the state of all motors to feed it to the Quadri's command"
   ]
  },
  {
   "cell_type": "code",
   "execution_count": 9,
   "id": "5a99f539",
   "metadata": {},
   "outputs": [],
   "source": [
    "from blocksim.control.Route import Group\n",
    "\n",
    "grp_inp = {}\n",
    "grp_inp[\"in0\"] = (1,)\n",
    "grp_inp[\"in1\"] = (1,)\n",
    "grp_inp[\"in2\"] = (1,)\n",
    "grp_inp[\"in3\"] = (1,)\n",
    "grp = Group(\n",
    "    \"grp\",\n",
    "    inputs=grp_inp,\n",
    "    snames=[\"gs0\", \"gs1\", \"gs2\", \"gs3\"],\n",
    ")\n",
    "\n",
    "sim.addComputer(grp)\n",
    "\n",
    "sim.connect(\"mot0.state\", \"grp.in0\")\n",
    "sim.connect(\"mot1.state\", \"grp.in1\")\n",
    "sim.connect(\"mot2.state\", \"grp.in2\")\n",
    "sim.connect(\"mot3.state\", \"grp.in3\")\n",
    "sim.connect(\"grp.grouped\", \"sys.command\")"
   ]
  },
  {
   "cell_type": "markdown",
   "id": "6a4451bc",
   "metadata": {},
   "source": [
    "## Controlling the quadcopter\n",
    "### Attitude controller\n",
    "Then we need an attitude controller"
   ]
  },
  {
   "cell_type": "code",
   "execution_count": 10,
   "id": "f336b09f",
   "metadata": {},
   "outputs": [],
   "source": [
    "from blocksim.quadcopter.AttPilot import AttPilot\n",
    "\n",
    "ctlatt = AttPilot(\"ctlatt\", sys)\n",
    "\n",
    "sim.addComputer(ctlatt)\n",
    "\n",
    "sim.connect(\"sys.state\", \"ctlatt.estimation\")\n",
    "sim.connect(\"sys.euler\", \"ctlatt.euler\")"
   ]
  },
  {
   "cell_type": "markdown",
   "id": "96ac75f3",
   "metadata": {},
   "source": [
    "The attitude command is a 4 scalar vector, that needs to be split among the 4 motors"
   ]
  },
  {
   "cell_type": "code",
   "execution_count": 11,
   "id": "57bb1a33",
   "metadata": {},
   "outputs": [],
   "source": [
    "from blocksim.control.Route import Split\n",
    "\n",
    "spt_otp = {}\n",
    "spt_otp[\"u0\"] = (0,)\n",
    "spt_otp[\"u1\"] = (1,)\n",
    "spt_otp[\"u2\"] = (2,)\n",
    "spt_otp[\"u3\"] = (3,)\n",
    "spt = Split(\n",
    "    name=\"spt\",\n",
    "    signal_shape=(7,),\n",
    "    outputs=spt_otp,\n",
    ")\n",
    "\n",
    "sim.addComputer(spt)\n",
    "\n",
    "sim.connect(\"ctlatt.command\", \"spt.signal\")\n",
    "sim.connect(\"spt.u0\", \"ctlmot0.setpoint\")\n",
    "sim.connect(\"spt.u1\", \"ctlmot1.setpoint\")\n",
    "sim.connect(\"spt.u2\", \"ctlmot2.setpoint\")\n",
    "sim.connect(\"spt.u3\", \"ctlmot3.setpoint\")"
   ]
  },
  {
   "cell_type": "markdown",
   "id": "ba4ad637",
   "metadata": {},
   "source": [
    "### VTOLcontroller\n",
    "Then we need hte position / velocity controller\n",
    "The VTOL controller commands an attitude, that has to be realized by the attitude controller"
   ]
  },
  {
   "cell_type": "code",
   "execution_count": 12,
   "id": "94c30111",
   "metadata": {},
   "outputs": [],
   "source": [
    "from blocksim.quadcopter.VTOLPilot import VTOLPilot\n",
    "\n",
    "ctlvtol = VTOLPilot(name=\"ctlvtol\", grav=9.81)\n",
    "ctlvtol.matQ = np.eye(6)\n",
    "ctlvtol.matR = np.eye(3) * 5\n",
    "ctlvtol.matA = np.zeros((6, 6))\n",
    "ctlvtol.matA[0:3, 3:6] = np.eye(3)\n",
    "ctlvtol.matB = np.zeros((6, 3))\n",
    "ctlvtol.matB[3:6, :] = np.eye(3)\n",
    "ctlvtol.matC = np.zeros((3, 6))\n",
    "ctlvtol.matC[:, 0:3] = np.eye(3)\n",
    "ctlvtol.matD = np.zeros((3, 3))\n",
    "\n",
    "sim.addComputer(ctlvtol)\n",
    "\n",
    "sim.connect(\"ctlvtol.att\", \"ctlatt.setpoint\")"
   ]
  },
  {
   "cell_type": "markdown",
   "id": "36e1b5cb",
   "metadata": {},
   "source": [
    "The VTOL controller needs in input the positoin and velocity of the quadcopter. We will use the real state vetcor (in the real life, we only have IMU measurement, precessed by a Kalman filter. But here, we simplify !).\n",
    "But the Quadri instance has a state vector with attitude and attitude rate data. So we split the state to keep only positoin and velocity."
   ]
  },
  {
   "cell_type": "code",
   "execution_count": 13,
   "id": "ee36598e",
   "metadata": {},
   "outputs": [],
   "source": [
    "wspt_otp = {}\n",
    "wspt_otp[\"pv\"] = list(range(6))\n",
    "wtolspt = Split(\n",
    "    name=\"wtolspt\",\n",
    "    signal_shape=(13,),\n",
    "    outputs=wspt_otp,\n",
    ")\n",
    "\n",
    "sim.addComputer(wtolspt)\n",
    "\n",
    "sim.connect(\"sys.state\", \"wtolspt.signal\")\n",
    "sim.connect(\"wtolspt.pv\", \"ctlvtol.estimation\")"
   ]
  },
  {
   "cell_type": "markdown",
   "id": "cbe7a9a5",
   "metadata": {},
   "source": [
    "### User input\n",
    "The user gives a constant input of 0: we want the quadcopter to remain steady."
   ]
  },
  {
   "cell_type": "code",
   "execution_count": 14,
   "id": "2d87e904",
   "metadata": {},
   "outputs": [],
   "source": [
    "stp = Step(\n",
    "    \"stp\",\n",
    "    cons=np.array([0, 0, 0, 0]),\n",
    "    snames=[\"x_cons\", \"y_cons\", \"z_cons\", \"psi_cons\"],\n",
    ")\n",
    "\n",
    "sim.addComputer(stp)\n",
    "\n",
    "sim.connect(\"stp.setpoint\", \"ctlvtol.setpoint\")"
   ]
  },
  {
   "cell_type": "markdown",
   "id": "a304395e",
   "metadata": {},
   "source": [
    "## Simulation and plotting"
   ]
  },
  {
   "cell_type": "code",
   "execution_count": 15,
   "id": "16e7eed9",
   "metadata": {},
   "outputs": [
    {
     "data": {
      "image/png": "[encoded data removed]",
      "text/plain": [
       "<Figure size 432x288 with 2 Axes>"
      ]
     },
     "metadata": {
      "needs_background": "light"
     },
     "output_type": "display_data"
    }
   ],
   "source": [
    "tps = np.arange(0, 20, 0.01)\n",
    "sim.simulate(tps, progress_bar=False)\n",
    "log = sim.getLogger()\n",
    "\n",
    "fig = plotVerif(\n",
    "    log,\n",
    "    \"Figure 3\",\n",
    "    [\n",
    "        {\"var\": \"deg(ctlvtol_att_roll)\"},\n",
    "        {\"var\": \"deg(ctlvtol_att_pitch)\"},\n",
    "        {\"var\": \"deg(ctlvtol_att_yaw)\"},\n",
    "    ],\n",
    "    [\n",
    "        {\"var\": \"sys_state_pz\"},\n",
    "    ],\n",
    ")\n",
    "mfig = fig.render()"
   ]
  }
 ],
 "metadata": {
  "interpreter": {
   "hash": "99eff1c768dda71303f6c5d8ad573c10d3d39dde2df5168abb55c0f9ab422aa7"
  },
  "kernelspec": {
   "display_name": "Python 3.10.4 ('sim')",
   "language": "python",
   "name": "python3"
  },
  "language_info": {
   "codemirror_mode": {
    "name": "ipython",
    "version": 3
   },
   "file_extension": ".py",
   "mimetype": "text/x-python",
   "name": "python",
   "nbconvert_exporter": "python",
   "pygments_lexer": "ipython3",
   "version": "3.10.4"
  }
 },
 "nbformat": 4,
 "nbformat_minor": 5
}
