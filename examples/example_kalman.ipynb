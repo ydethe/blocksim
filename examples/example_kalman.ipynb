{
 "cells": [
  {
   "cell_type": "markdown",
   "metadata": {},
   "source": [
    "# Damped spring-mass system with kalman estimator\n",
    "This case consists in :\n",
    "\n",
    "* a LTI system, named *sys* `blocksim.control.System.LTISystem`\n",
    "\n",
    "  This element simulates the system\n",
    "\n",
    "* a LQ regulator, named *ctl* `blocksim.control.Controller.LQRegulator`\n",
    "\n",
    "  This element compares the estimated state of the system and compares to the setpoint.\n",
    "  It controls the system so that it reaches the setpoint\n",
    "\n",
    "* a noisy biased sensor, named *cpt* `blocksim.control.Sensors.LinearSensors`\n",
    "\n",
    "  This element measures the position with noise and a constant bias\n",
    "\n",
    "* a Kalman filter , named *kal* `blocksim.control.Estimator.TimeInvariantKalmanFilter`\n",
    "\n",
    "  This version of the Kalman filter is the steady-state version : the matrix gain and state covariance matrix are fix in time.\n",
    "\n",
    "* a LQ regulator, named *ctl* `blocksim.control.Controller.LQRegulator`\n",
    "\n",
    "  This element compares the estimated state of the system and compares to the setpoint.\n",
    "  It controls the system so that it reaches the setpoint\n",
    "\n",
    "* a setpoint, named *stp* `blocksim.control.SetPoint.Step`\n",
    "  This element provides a user command such as a step or a ramp or a Dirac, ...\n",
    "  Here, we will use a unit step function"
   ]
  },
  {
   "cell_type": "code",
   "execution_count": 1,
   "metadata": {},
   "outputs": [],
   "source": [
    "%matplotlib inline\n",
    "import numpy as np"
    "import blocksim"
   ]
  },
  {
   "cell_type": "markdown",
   "metadata": {},
   "source": [
    "## Definition of the system\n",
    "Mass, spring and friction"
   ]
  },
  {
   "cell_type": "code",
   "execution_count": 2,
   "metadata": {},
   "outputs": [
    {
     "name": "stderr",
     "output_type": "stream",
     "text": [
      "[INFO] - Registered blocksim.loggers.CSVLogger\n",
      "[INFO] - Registered blocksim.loggers.PickleLogger\n",
      "[INFO] - Registered blocksim.loggers.PsqlLogger\n",
      "[INFO] - Registered blocksim.loggers.XlsLogger\n"
     ]
    }
   ],
   "source": [
    "from blocksim.control.System import LTISystem\n",
    "\n",
    "m = 1.0  # Mass\n",
    "k = 40.0  # Spring rate\n",
    "f = 5\n",
    "\n",
    "sys = LTISystem(\"sys\", shape_command=(1,), snames_state=[\"x\", \"v\"])\n",
    "sys.matA = np.array([[0, 1], [-k / m, -f / m]])\n",
    "sys.matB = np.array([[0, 1 / m]]).T\n",
    "# We set the initial position to -1, and the initial velocity to 0\n",
    "sys.setInitialStateForOutput(np.array([-1.0, 0.0]), \"state\")"
   ]
  },
  {
   "cell_type": "markdown",
   "metadata": {},
   "source": [
    "## Definition of the Kalman filter, with converged gain matrix\n",
    "The state vector of the Kalman filter includes the bias of the position sensor"
   ]
  },
  {
   "cell_type": "code",
   "execution_count": 3,
   "metadata": {},
   "outputs": [],
   "source": [
    "from blocksim.control.Estimator import TimeInvariantKalmanFilter\n",
    "\n",
    "kal = TimeInvariantKalmanFilter(\n",
    "    \"kal\",\n",
    "    shape_cmd=(1,),  # Shape of the command vector\n",
    "    snames_state=[\"x\", \"v\", \"b\"],  # Components of the state vector\n",
    "    snames_output=[\"x\"],  # Components of the output vector\n",
    ")\n",
    "kal.matA = np.zeros((3, 3))\n",
    "kal.matA[:2, :2] = sys.matA\n",
    "kal.matB = np.zeros((3, 1))\n",
    "kal.matB[:2] = sys.matB\n",
    "kal.matC = np.array([[1, 0, 1]])\n",
    "kal.matD = np.zeros((1, 1))\n",
    "kal.matQ = np.eye(3) / 10000\n",
    "kal.matR = np.eye(1) / 100"
   ]
  },
  {
   "cell_type": "markdown",
   "metadata": {},
   "source": [
    "## Definition of a noisy biased sensor\n",
    "The sensor measures the position"
   ]
  },
  {
   "cell_type": "code",
   "execution_count": 4,
   "metadata": {},
   "outputs": [],
   "source": [
    "from blocksim.control.Sensors import LinearSensors\n",
    "\n",
    "bias = 0.5\n",
    "\n",
    "cpt = LinearSensors(\"cpt\", shape_state=(2,), shape_command=(1,), snames=[\"x\"])\n",
    "cpt.matC = np.array([1, 0])\n",
    "cpt.matD = np.zeros((1, 1))\n",
    "cpt.setCovariance(np.eye(1) / 200)\n",
    "cpt.setMean(np.array([bias]))"
   ]
  },
  {
   "cell_type": "markdown",
   "metadata": {},
   "source": [
    "## Definition of a LQ regulator\n",
    "The controller determines the command"
   ]
  },
  {
   "cell_type": "code",
   "execution_count": 5,
   "metadata": {},
   "outputs": [],
   "source": [
    "from blocksim.control.Controller import LQRegulator\n",
    "\n",
    "ctl = LQRegulator(\"ctl\", shape_setpoint=(1,), shape_estimation=(2,), snames=[\"u\"])\n",
    "ctl.matA = sys.matA\n",
    "ctl.matB = sys.matB\n",
    "ctl.matC = kal.matC[:, :2]\n",
    "ctl.matD = kal.matD\n",
    "ctl.matQ = np.eye(2) / 10000\n",
    "ctl.matR = np.eye(1) / 100\n",
    "ctl.computeGain()"
   ]
  },
  {
   "cell_type": "markdown",
   "metadata": {},
   "source": [
    "## Definition of the setpoint : unit step function\n",
    "The setpoint is simple Heavyside function here"
   ]
  },
  {
   "cell_type": "code",
   "execution_count": 6,
   "metadata": {},
   "outputs": [],
   "source": [
    "from blocksim.control.SetPoint import Step\n",
    "\n",
    "stp = Step(name=\"stp\", snames=[\"c\"], cons=np.array([1]))"
   ]
  },
  {
   "cell_type": "markdown",
   "metadata": {},
   "source": [
    "## Definition of a splitter\n",
    "The Kalman's state vector is x, v, b.\n",
    "But the controller expects an estimation of the system's state vector.\n",
    "So we need a splitter wich excludes the bias estimation"
   ]
  },
  {
   "cell_type": "code",
   "execution_count": 7,
   "metadata": {},
   "outputs": [],
   "source": [
    "from blocksim.control.Route import Split\n",
    "\n",
    "spt_otp = dict()\n",
    "spt_otp[\"split\"] = [0, 1]  # We keep outputs 0 and 1 of the input vector\n",
    "split = Split(\"split\", signal_shape=(3,), outputs=spt_otp)"
   ]
  },
  {
   "cell_type": "markdown",
   "metadata": {},
   "source": [
    "## Simulation\n",
    "### Simulation setup"
   ]
  },
  {
   "cell_type": "code",
   "execution_count": 8,
   "metadata": {},
   "outputs": [],
   "source": [
    "from blocksim.Simulation import Simulation\n",
    "\n",
    "sim = Simulation()\n",
    "\n",
    "sim.addComputer(sys)\n",
    "sim.addComputer(ctl)\n",
    "sim.addComputer(cpt)\n",
    "sim.addComputer(kal)\n",
    "sim.addComputer(split)\n",
    "sim.addComputer(stp)\n",
    "\n",
    "# List of the connnections\n",
    "sim.connect(\"stp.setpoint\", \"ctl.setpoint\")\n",
    "sim.connect(\"ctl.command\", \"sys.command\")\n",
    "sim.connect(\"sys.state\", \"cpt.state\")\n",
    "sim.connect(\"ctl.command\", \"cpt.command\")\n",
    "sim.connect(\"cpt.measurement\", \"kal.measurement\")\n",
    "sim.connect(\"ctl.command\", \"kal.command\")\n",
    "sim.connect(\"kal.state\", \"split.signal\")\n",
    "sim.connect(\"split.split\", \"ctl.estimation\")"
   ]
  },
  {
   "cell_type": "markdown",
   "metadata": {},
   "source": [
    "### Running the simulation and plotting"
   ]
  },
  {
   "cell_type": "code",
   "execution_count": 9,
   "metadata": {},
   "outputs": [
    {
     "data": {
      "image/png": "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\n",
      "text/plain": [
       "<Figure size 432x288 with 1 Axes>"
      ]
     },
     "metadata": {
      "needs_background": "light"
     },
     "output_type": "display_data"
    }
   ],
   "source": [
    "dt = 0.05\n",
    "\n",
    "tps = np.arange(0, 4, dt)\n",
    "sim.simulate(tps, progress_bar=False)\n",
    "\n",
    "log = sim.getLogger()\n",
    "\n",
    "from blocksim.graphics import plotVerif\n",
    "from matplotlib import pyplot as plt\n",
    "\n",
    "_ = plotVerif(\n",
    "    log,\n",
    "    \"kalman\",\n",
    "    [\n",
    "        {\"var\": \"sys_state_x\"},\n",
    "        {\"var\": \"stp_setpoint_c\"},\n",
    "        {\"var\": \"kal_state_x\"},\n",
    "        {\"var\": \"cpt_measurement_x\", \"linestyle\": \"\", \"marker\": \"+\"},\n",
    "    ],\n",
    ")"
   ]
  },
  {
   "cell_type": "code",
   "execution_count": null,
   "metadata": {},
   "outputs": [],
   "source": []
  }
 ],
 "metadata": {
  "kernelspec": {
   "display_name": "Python 3 (ipykernel)",
   "language": "python",
   "name": "python3"
  },
  "language_info": {
   "codemirror_mode": {
    "name": "ipython",
    "version": 3
   },
   "file_extension": ".py",
   "mimetype": "text/x-python",
   "name": "python",
   "nbconvert_exporter": "python",
   "pygments_lexer": "ipython3",
   "version": "3.9.7"
  }
 },
 "nbformat": 4,
 "nbformat_minor": 2
}
