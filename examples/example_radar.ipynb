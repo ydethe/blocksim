{
 "cells": [
  {
   "cell_type": "markdown",
   "metadata": {},
   "source": [
    "# Radar proccessing"
   ]
  },
  {
   "cell_type": "code",
   "execution_count": null,
   "metadata": {},
   "outputs": [],
   "source": [
    "%matplotlib inline\n",
    "import numpy as np"
   ]
  },
  {
   "cell_type": "markdown",
   "metadata": {},
   "source": [
    "## Creation of the signal"
   ]
  },
  {
   "cell_type": "code",
   "execution_count": null,
   "metadata": {},
   "outputs": [],
   "source": [
    "from blocksim.dsp.DSPSignal import DSPSignal\n",
    "\n",
    "# Reference chirp generation\n",
    "tau = 10e-6  # Duration of one pulse\n",
    "bp = 5e6  # Bandwidth\n",
    "fs = bp * 3  # Sampling frequency\n",
    "eta = 0.1  # Duty cycle of repetitions\n",
    "nrep = 50  # Number of repetitions\n",
    "fdop = 1e3  # Doppler frequency\n",
    "wl = 0.2  # wavelength\n",
    "\n",
    "rep = DSPSignal.fromLinearFM(\n",
    "    name=\"rep\",\n",
    "    samplingStart=0,\n",
    "    samplingPeriod=1 / fs,\n",
    "    tau=tau,\n",
    "    fstart=-bp / 2,\n",
    "    fend=bp / 2,\n",
    ")\n",
    "\n",
    "# Noisy received signal with nrep repetitions\n",
    "ns_rep = len(rep)\n",
    "\n",
    "ns = int(ns_rep / eta)\n",
    "tps = np.arange(nrep * ns) / fs\n",
    "y_sig = np.zeros(nrep * ns, dtype=np.complex128)\n",
    "for k in range(nrep):\n",
    "    y_sig[k * ns : k * ns + ns_rep] = rep.y_serie * k\n",
    "sig = (\n",
    "    DSPSignal.fromTimeAndSamples(name=\"sig\", tps=tps, y_serie=y_sig)\n",
    "    .applyDopplerFrequency(fdop=fdop)\n",
    "    .applyGaussianNoise(pwr=5)\n",
    ")"
   ]
  },
  {
   "cell_type": "markdown",
   "metadata": {},
   "source": [
    "## Processing"
   ]
  },
  {
   "cell_type": "code",
   "execution_count": null,
   "metadata": {},
   "outputs": [],
   "source": [
    "# Definitions\n",
    "from blocksim.constants import c\n",
    "\n",
    "Tr = tau / eta  # Repetition period\n",
    "Tana = nrep * Tr  # Analysis duration\n",
    "Rf = 1 / Tana  # Frequency resolution\n",
    "Rv = Rf * wl  # Velocity resolution\n",
    "Rd = c / bp * 1.4  # Distance resolution\n",
    "vamb = wl / 2 / Tr  # Size of analyse window in the velocity axis\n",
    "damb = 2 * tau * c  # Size of analyse window in the distance axis\n",
    "\n",
    "# Analysis of the received signal\n",
    "from blocksim.dsp import analyse_DV\n",
    "\n",
    "spg = analyse_DV(\n",
    "    wavelength=wl,\n",
    "    period=Tr,\n",
    "    dist0=tau * c,\n",
    "    damb=damb,\n",
    "    vrad0=-wl * fdop,\n",
    "    vamb=vamb,\n",
    "    seq=rep,\n",
    "    rxsig=sig,\n",
    "    nv=100,\n",
    "    corr_window=\"hamming\",\n",
    "    progress_bar=False,\n",
    ")\n",
    "\n",
    "trf = DSPSignal.to_db_lim(-80)\n",
    "(peak,) = spg.findPeaksWithTransform(transform=trf, nb_peaks=1)\n",
    "print(peak)\n",
    "\n",
    "# Plotting\n",
    "from matplotlib import pyplot as plt\n",
    "from blocksim.graphics import plotSpectrogram\n",
    "\n",
    "fig = plt.figure()\n",
    "axe = fig.add_subplot(111)\n",
    "plotSpectrogram(\n",
    "    spg,\n",
    "    axe,\n",
    "    transform=trf,\n",
    "    search_fig=False,\n",
    "    find_peaks=1,\n",
    ")\n",
    "axe.set_title(\"Power (dB)\")"
   ]
  }
 ],
 "metadata": {
  "language_info": {
   "name": "python"
  },
  "orig_nbformat": 4
 },
 "nbformat": 4,
 "nbformat_minor": 2
}
