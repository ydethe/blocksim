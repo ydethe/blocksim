{
 "cells": [
  {
   "cell_type": "markdown",
   "metadata": {},
   "source": [
    "# Zadoff-Chu sequence"
   ]
  },
  {
   "cell_type": "code",
   "execution_count": null,
   "metadata": {},
   "outputs": [],
   "source": [
    "%matplotlib inline\n",
    "from blocksim.dsp.DSPSignal import DSPSignal\n",
    "from blocksim.dsp import createZadoffChu\n",
    "\n",
    "s1 = createZadoffChu(name=\"s1\", n_zc=1021, u=1, sampling_freq=1e6)\n",
    "\n",
    "# Correlation of the sequence with itself\n",
    "y = s1.correlate(s1)\n",
    "\n",
    "# Plotting\n",
    "from matplotlib import pyplot as plt\n",
    "\n",
    "from blocksim.graphics import plotDSPLine\n",
    "\n",
    "fig = plt.figure()\n",
    "axe = fig.add_subplot(111)\n",
    "axe.grid(True)\n",
    "plotDSPLine(y, axe)"
   ]
  }
 ],
 "metadata": {
  "language_info": {
   "name": "python"
  },
  "orig_nbformat": 4
 },
 "nbformat": 4,
 "nbformat_minor": 2
}
