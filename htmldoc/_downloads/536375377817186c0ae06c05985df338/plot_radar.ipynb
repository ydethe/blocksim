{
  "cells": [
    {
      "cell_type": "code",
      "execution_count": null,
      "metadata": {
        "collapsed": false
      },
      "outputs": [],
      "source": [
        "%matplotlib inline"
      ]
    },
    {
      "cell_type": "markdown",
      "metadata": {},
      "source": [
        "\n# Radar proccessing\n"
      ]
    },
    {
      "cell_type": "markdown",
      "metadata": {},
      "source": [
        "## Creation of the signal\n\n"
      ]
    },
    {
      "cell_type": "code",
      "execution_count": null,
      "metadata": {
        "collapsed": false
      },
      "outputs": [],
      "source": [
        "import numpy as np\nfrom blocksim.dsp.DSPSignal import DSPSignal"
      ]
    },
    {
      "cell_type": "markdown",
      "metadata": {},
      "source": [
        "Reference chirp generation\n\n"
      ]
    },
    {
      "cell_type": "code",
      "execution_count": null,
      "metadata": {
        "collapsed": false
      },
      "outputs": [],
      "source": [
        "tau = 10e-6  # Duration of one pulse\nbp = 5e6  # Bandwidth\nfs = bp * 3  # Sampling frequency\neta = 0.1  # Duty cycle of repetitions\nnrep = 50  # Number of repetitions\nfdop = 1e3  # Doppler frequency\nwl = 0.2  # wavelength\n\nrep = DSPSignal.fromLinearFM(\n    name=\"rep\",\n    samplingStart=0,\n    samplingPeriod=1 / fs,\n    tau=tau,\n    fstart=-bp / 2,\n    fend=bp / 2,\n)"
      ]
    },
    {
      "cell_type": "markdown",
      "metadata": {},
      "source": [
        "Noisy received signal with nrep repetitions\n\n"
      ]
    },
    {
      "cell_type": "code",
      "execution_count": null,
      "metadata": {
        "collapsed": false
      },
      "outputs": [],
      "source": [
        "ns_rep = len(rep)\n\nns = int(ns_rep / eta)\ntps = np.arange(nrep * ns) / fs\ny_sig = np.zeros(nrep * ns, dtype=np.complex128)\nfor k in range(nrep):\n    y_sig[k * ns : k * ns + ns_rep] = rep.y_serie * k\nsig = (\n    DSPSignal.fromTimeAndSamples(name=\"sig\", tps=tps, y_serie=y_sig)\n    .applyDopplerFrequency(fdop=fdop)\n    .applyGaussianNoise(pwr=5)\n)"
      ]
    },
    {
      "cell_type": "markdown",
      "metadata": {},
      "source": [
        "## Processing\n\n"
      ]
    },
    {
      "cell_type": "markdown",
      "metadata": {},
      "source": [
        "Definitions\n\n"
      ]
    },
    {
      "cell_type": "code",
      "execution_count": null,
      "metadata": {
        "collapsed": false
      },
      "outputs": [],
      "source": [
        "from blocksim.constants import c\n\nTr = tau / eta  # Repetition period\nTana = nrep * Tr  # Analysis duration\nRf = 1 / Tana  # Frequency resolution\nRv = Rf * wl  # Velocity resolution\nRd = c / bp * 1.4  # Distance resolution\nvamb = wl / 2 / Tr  # Size of analyse window in the velocity axis\ndamb = 2 * tau * c  # Size of analyse window in the distance axis"
      ]
    },
    {
      "cell_type": "markdown",
      "metadata": {},
      "source": [
        "Analysis of the received signal\n\n"
      ]
    },
    {
      "cell_type": "code",
      "execution_count": null,
      "metadata": {
        "collapsed": false
      },
      "outputs": [],
      "source": [
        "from blocksim.dsp import analyse_DV\n\nspg = analyse_DV(\n    wavelength=wl,\n    period=Tr,\n    dist0=tau * c,\n    damb=damb,\n    vrad0=-wl * fdop,\n    vamb=vamb,\n    seq=rep,\n    rxsig=sig,\n    nv=100,\n    corr_window=\"hamming\",\n    progress_bar=False,\n)\n\ntrf = DSPSignal.to_db_lim(-80)\n(peak,) = spg.findPeaksWithTransform(transform=trf, nb_peaks=1)\nprint(peak)"
      ]
    },
    {
      "cell_type": "markdown",
      "metadata": {},
      "source": [
        "## Plotting\n\n"
      ]
    },
    {
      "cell_type": "code",
      "execution_count": null,
      "metadata": {
        "collapsed": false
      },
      "outputs": [],
      "source": [
        "from matplotlib import pyplot as plt\nfrom blocksim.graphics import plotSpectrogram\n\nfig = plt.figure()\naxe = fig.add_subplot(111)\nplotSpectrogram(\n    spg,\n    axe,\n    transform=trf,\n    search_fig=False,\n    find_peaks=1,\n)\naxe.set_title(\"Power (dB)\")\n\nplt.show()"
      ]
    }
  ],
  "metadata": {
    "kernelspec": {
      "display_name": "Python 3",
      "language": "python",
      "name": "python3"
    },
    "language_info": {
      "codemirror_mode": {
        "name": "ipython",
        "version": 3
      },
      "file_extension": ".py",
      "mimetype": "text/x-python",
      "name": "python",
      "nbconvert_exporter": "python",
      "pygments_lexer": "ipython3",
      "version": "3.9.7"
    }
  },
  "nbformat": 4,
  "nbformat_minor": 0
}
