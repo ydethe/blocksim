{
  "cells": [
    {
      "cell_type": "code",
      "execution_count": null,
      "metadata": {
        "collapsed": false
      },
      "outputs": [],
      "source": [
        "%matplotlib inline"
      ]
    },
    {
      "cell_type": "markdown",
      "metadata": {},
      "source": [
        "\n# Damped spring-mass system with kalman estimator\nThis case consists in :\n\n* a LTI system, named *sys* :class:`blocksim.control.System.LTISystem`\n\n  This element simulates the system\n\n* a LQ regulator, named *ctl* :class:`blocksim.control.Controller.LQRegulator`\n\n  This element compares the estimated state of the system and compares to the setpoint.\n  It controls the system so that it reaches the setpoint\n\n* a noisy biased sensor, named *cpt* :class:`blocksim.control.Sensors.LinearSensors`\n\n  This element measures the position with noise and a constant bias\n\n* a Kalman filter , named *kal* :class:`blocksim.control.Estimator.TimeInvariantKalmanFilter`\n\n  This version of the Kalman filter is the steady-state version : the matrix gain and state covariance matrix are fix in time.\n\n* a LQ regulator, named *ctl* :class:`blocksim.control.Controller.LQRegulator`\n\n  This element compares the estimated state of the system and compares to the setpoint.\n  It controls the system so that it reaches the setpoint\n\n* a setpoint, named *stp* :class:`blocksim.control.SetPoint.Step`\n  This element provides a user command such as a step or a ramp or a Dirac, ...\n  Here, we will use a unit step function\n"
      ]
    },
    {
      "cell_type": "code",
      "execution_count": null,
      "metadata": {
        "collapsed": false
      },
      "outputs": [],
      "source": [
        "import numpy as np"
      ]
    },
    {
      "cell_type": "markdown",
      "metadata": {},
      "source": [
        "## Definition of the system\nMass, spring and friction\n\n"
      ]
    },
    {
      "cell_type": "code",
      "execution_count": null,
      "metadata": {
        "collapsed": false
      },
      "outputs": [],
      "source": [
        "from blocksim.control.System import LTISystem\n\nm = 1.0  # Mass\nk = 40.0  # Spring rate\nf = 5\n\nsys = LTISystem(\"sys\", shape_command=(1,), snames_state=[\"x\", \"v\"])\nsys.matA = np.array([[0, 1], [-k / m, -f / m]])\nsys.matB = np.array([[0, 1 / m]]).T\n# We set the initial position to -1, and the initial velocity to 0\nsys.setInitialStateForOutput(np.array([-1.0, 0.0]), \"state\")"
      ]
    },
    {
      "cell_type": "markdown",
      "metadata": {},
      "source": [
        "## Definition of the Kalman filter, with converged gain matrix\nThe state vector of the Kalman filter includes the bias of the position sensor\n\n"
      ]
    },
    {
      "cell_type": "code",
      "execution_count": null,
      "metadata": {
        "collapsed": false
      },
      "outputs": [],
      "source": [
        "from blocksim.control.Estimator import TimeInvariantKalmanFilter\n\nkal = TimeInvariantKalmanFilter(\n    \"kal\",\n    shape_cmd=(1,),  # Shape of the command vector\n    snames_state=[\"x\", \"v\", \"b\"],  # Components of the state vector\n    snames_output=[\"x\"],  # Components of the output vector\n)\nkal.matA = np.zeros((3, 3))\nkal.matA[:2, :2] = sys.matA\nkal.matB = np.zeros((3, 1))\nkal.matB[:2] = sys.matB\nkal.matC = np.array([[1, 0, 1]])\nkal.matD = np.zeros((1, 1))\nkal.matQ = np.eye(3) / 10000\nkal.matR = np.eye(1) / 100"
      ]
    },
    {
      "cell_type": "markdown",
      "metadata": {},
      "source": [
        "## Definition of a noisy biased sensor\nThe sensor measures the position\n\n"
      ]
    },
    {
      "cell_type": "code",
      "execution_count": null,
      "metadata": {
        "collapsed": false
      },
      "outputs": [],
      "source": [
        "from blocksim.control.Sensors import LinearSensors\n\nbias = 0.5\n\ncpt = LinearSensors(\"cpt\", shape_state=(2,), shape_command=(1,), snames=[\"x\"])\ncpt.matC = np.array([1, 0])\ncpt.matD = np.zeros((1, 1))\ncpt.setCovariance(np.eye(1) / 200)\ncpt.setMean(np.array([bias]))"
      ]
    },
    {
      "cell_type": "markdown",
      "metadata": {},
      "source": [
        "## Definition of a LQ regulator\nThe sensor measures the position\n\n"
      ]
    },
    {
      "cell_type": "code",
      "execution_count": null,
      "metadata": {
        "collapsed": false
      },
      "outputs": [],
      "source": [
        "from blocksim.control.Controller import LQRegulator\n\nctl = LQRegulator(\"ctl\", shape_setpoint=(1,), shape_estimation=(2,), snames=[\"u\"])\nctl.matA = sys.matA\nctl.matB = sys.matB\nctl.matC = kal.matC[:, :2]\nctl.matD = kal.matD\nctl.matQ = np.eye(2) / 10000\nctl.matR = np.eye(1) / 100\nctl.computeGain()"
      ]
    },
    {
      "cell_type": "markdown",
      "metadata": {},
      "source": [
        "## Definition of the setpoint : unit step function\nThe setpoint is simple Heavyside function here\n\n"
      ]
    },
    {
      "cell_type": "code",
      "execution_count": null,
      "metadata": {
        "collapsed": false
      },
      "outputs": [],
      "source": [
        "from blocksim.control.SetPoint import Step\n\nstp = Step(name=\"stp\", snames=[\"c\"], cons=np.array([1]))"
      ]
    },
    {
      "cell_type": "markdown",
      "metadata": {},
      "source": [
        "## Definition of a splitter\nThe Kalman's state vector is x, v, b.\nBut the controller expects an estimation of the system's state vector.\nSo we need a splitter wich excludes the bias estimation\n\n"
      ]
    },
    {
      "cell_type": "code",
      "execution_count": null,
      "metadata": {
        "collapsed": false
      },
      "outputs": [],
      "source": [
        "from blocksim.control.Route import Split\n\nspt_otp = dict()\nspt_otp[\"split\"] = [0, 1]  # We keep outputs 0 and 1 of the input vector\nsplit = Split(\"split\", signal_shape=(3,), outputs=spt_otp)"
      ]
    },
    {
      "cell_type": "markdown",
      "metadata": {},
      "source": [
        "## Simulation graph creation\n\n"
      ]
    },
    {
      "cell_type": "code",
      "execution_count": null,
      "metadata": {
        "collapsed": false
      },
      "outputs": [],
      "source": [
        "from blocksim.Simulation import Simulation\n\nsim = Simulation()\n\nsim.addComputer(sys)\nsim.addComputer(ctl)\nsim.addComputer(cpt)\nsim.addComputer(kal)\nsim.addComputer(split)\nsim.addComputer(stp)\n\n# List of the connnections\nsim.connect(\"stp.setpoint\", \"ctl.setpoint\")\nsim.connect(\"ctl.command\", \"sys.command\")\nsim.connect(\"sys.state\", \"cpt.state\")\nsim.connect(\"ctl.command\", \"cpt.command\")\nsim.connect(\"cpt.measurement\", \"kal.measurement\")\nsim.connect(\"ctl.command\", \"kal.command\")\nsim.connect(\"kal.state\", \"split.signal\")\nsim.connect(\"split.split\", \"ctl.estimation\")"
      ]
    },
    {
      "cell_type": "markdown",
      "metadata": {},
      "source": [
        "## Running the simulation\nWe run the simulation and plot the results\n\n"
      ]
    },
    {
      "cell_type": "code",
      "execution_count": null,
      "metadata": {
        "collapsed": false
      },
      "outputs": [],
      "source": [
        "dt = 0.05\n\ntps = np.arange(0, 4, dt)\nsim.simulate(tps, progress_bar=False)\n\nlog = sim.getLogger()\n\nfrom blocksim.graphics import plotVerif\nfrom matplotlib import pyplot as plt\n\nplotVerif(\n    log,\n    \"test_ss_kal\",\n    [\n        {\"var\": \"sys_state_x\"},\n        {\"var\": \"stp_setpoint_c\"},\n        {\"var\": \"kal_state_x\"},\n        {\"var\": \"cpt_measurement_x\", \"linestyle\": \"\", \"marker\": \"+\"},\n    ],\n)\n\nplt.show()"
      ]
    }
  ],
  "metadata": {
    "kernelspec": {
      "display_name": "Python 3",
      "language": "python",
      "name": "python3"
    },
    "language_info": {
      "codemirror_mode": {
        "name": "ipython",
        "version": 3
      },
      "file_extension": ".py",
      "mimetype": "text/x-python",
      "name": "python",
      "nbconvert_exporter": "python",
      "pygments_lexer": "ipython3",
      "version": "3.9.7"
    }
  },
  "nbformat": 4,
  "nbformat_minor": 0
}
