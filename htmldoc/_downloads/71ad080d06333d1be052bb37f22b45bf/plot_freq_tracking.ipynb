{
  "cells": [
    {
      "cell_type": "code",
      "execution_count": null,
      "metadata": {
        "collapsed": false
      },
      "outputs": [],
      "source": [
        "%matplotlib inline"
      ]
    },
    {
      "cell_type": "markdown",
      "metadata": {},
      "source": [
        "\n# Frequency tracking\nThis example shows how to use a Kalman filter to estimate the frequencies\npresent in a signal.\n"
      ]
    },
    {
      "cell_type": "code",
      "execution_count": null,
      "metadata": {
        "collapsed": false
      },
      "outputs": [],
      "source": [
        "import numpy as np\n\n\nfs = 20\ndt = 1.0 / fs\nf1 = 3\nf2 = 10\ntau = 12"
      ]
    },
    {
      "cell_type": "markdown",
      "metadata": {},
      "source": [
        "Generation of a chirp with :class:`blocksim.dsp.DSPSignal.DSPSignal.fromLinearFM`\n\n"
      ]
    },
    {
      "cell_type": "code",
      "execution_count": null,
      "metadata": {
        "collapsed": false
      },
      "outputs": [],
      "source": [
        "from blocksim.dsp.DSPSignal import DSPSignal\n\nchirp = DSPSignal.fromLinearFM(\n    \"sig\", samplingStart=0, samplingPeriod=dt, tau=tau, fstart=f1, fend=f2\n)\nt = chirp.generateXSerie()\nfchirp = (1 - t / tau) * f1 + t / tau * f2"
      ]
    },
    {
      "cell_type": "markdown",
      "metadata": {},
      "source": [
        "Generation of a jammer after tau/2\nThe jammer emits a pure sinusoid at frequency f2. So this is a special case\nof a chirp with zero bandwith\n\n"
      ]
    },
    {
      "cell_type": "code",
      "execution_count": null,
      "metadata": {
        "collapsed": false
      },
      "outputs": [],
      "source": [
        "jammer = DSPSignal.fromLinearFM(\n    \"jam\", samplingStart=tau / 2, samplingPeriod=dt, tau=tau / 2, fstart=f2, fend=f2\n)"
      ]
    },
    {
      "cell_type": "markdown",
      "metadata": {},
      "source": [
        "The test signal is the superposition of the chirp and the jammer,\nwiht extra margins,\nand with some noise added\n\n"
      ]
    },
    {
      "cell_type": "code",
      "execution_count": null,
      "metadata": {
        "collapsed": false
      },
      "outputs": [],
      "source": [
        "sig = (\n    (chirp + jammer)\n    .resample(\n        samplingStart=t[0] - 1,\n        samplingPeriod=dt,\n        samplingStop=t[-1] + 1,\n        zero_padding=True,\n    )\n    .applyGaussianNoise(0.5)\n)"
      ]
    },
    {
      "cell_type": "markdown",
      "metadata": {},
      "source": [
        "We configure the frequency estimator :class:`blocksim.control.Estimator.SpectrumEstimator`\n\n"
      ]
    },
    {
      "cell_type": "code",
      "execution_count": null,
      "metadata": {
        "collapsed": false
      },
      "outputs": [],
      "source": [
        "from blocksim.control.Estimator import SpectrumEstimator\n\ntracks = np.arange(0, 20, 0.5) / fs\nnb_tracks = len(tracks)\n\nX = np.zeros(nb_tracks, dtype=np.complex128)\nkal = SpectrumEstimator(\n    name=\"kal\",\n    dt=dt,\n    shape_cmd=(1),\n    snames_output=[\"x_kal\"],\n    snames_state=[\"x_%i_est\" % i for i in range(nb_tracks)],\n    tracks=tracks * fs,\n)\nkal.matQ = np.eye(nb_tracks) / 10\nkal.matR = np.eye(1) / 10\nkal.setInitialStateForOutput(X, \"state\")"
      ]
    },
    {
      "cell_type": "markdown",
      "metadata": {},
      "source": [
        "We define the simulation\n\n"
      ]
    },
    {
      "cell_type": "code",
      "execution_count": null,
      "metadata": {
        "collapsed": false
      },
      "outputs": [],
      "source": [
        "from blocksim.control.SetPoint import Step\nfrom blocksim.Simulation import Simulation\n\nctrl = Step(\"ctrl\", snames=[\"u\"], cons=np.zeros(1))\n\nsim = Simulation()\n\nsim.addComputer(ctrl)\nsim.addComputer(sig)\nsim.addComputer(kal)\n\nsim.connect(\"sig.setpoint\", \"kal.measurement\")\nsim.connect(\"ctrl.setpoint\", \"kal.command\")\n\nsim.simulate(sig.generateXSerie(), progress_bar=False)"
      ]
    },
    {
      "cell_type": "markdown",
      "metadata": {},
      "source": [
        "We plot the spectrogram, which is computed by :class:`blocksim.control.Estimator.SpectrumEstimator.getSpectrogram`\nThe spectrogram is an instance of :class:`blocksim.dsp.DSPSpectrogram.DSPSpectrogram`\nIt has a method plot which allows to visualize the spectrogram\n\n"
      ]
    },
    {
      "cell_type": "code",
      "execution_count": null,
      "metadata": {
        "collapsed": false
      },
      "outputs": [],
      "source": [
        "log = sim.getLogger()\nspg = kal.getSpectrogram(log)\n\nfrom blocksim.graphics import plotSpectrogram\nimport matplotlib.pyplot as plt\n\nfig = plt.figure()\naxe = fig.add_subplot(111)\nplotSpectrogram(spg, axe)\naxe.plot(\n    t,\n    fchirp,\n    linewidth=2,\n    color=\"white\",\n    linestyle=\"--\",\n)\naxe.set_xlabel(\"Time (s)\")\naxe.set_ylabel(\"Frequency (Hz)\")\n\nplt.show()"
      ]
    }
  ],
  "metadata": {
    "kernelspec": {
      "display_name": "Python 3",
      "language": "python",
      "name": "python3"
    },
    "language_info": {
      "codemirror_mode": {
        "name": "ipython",
        "version": 3
      },
      "file_extension": ".py",
      "mimetype": "text/x-python",
      "name": "python",
      "nbconvert_exporter": "python",
      "pygments_lexer": "ipython3",
      "version": "3.9.7"
    }
  },
  "nbformat": 4,
  "nbformat_minor": 0
}
