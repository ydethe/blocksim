{
  "cells": [
    {
      "cell_type": "code",
      "execution_count": null,
      "metadata": {
        "collapsed": false
      },
      "outputs": [],
      "source": [
        "%matplotlib inline"
      ]
    },
    {
      "cell_type": "markdown",
      "metadata": {},
      "source": [
        "\n# FIR filtering\n"
      ]
    },
    {
      "cell_type": "markdown",
      "metadata": {},
      "source": [
        "## Main libraries import\n\n"
      ]
    },
    {
      "cell_type": "code",
      "execution_count": null,
      "metadata": {
        "collapsed": false
      },
      "outputs": [],
      "source": [
        "import numpy as np\nfrom numpy import pi, exp\nfrom matplotlib import pyplot as plt"
      ]
    },
    {
      "cell_type": "markdown",
      "metadata": {},
      "source": [
        "## Definition of the filter\nWe define a FIR pass-band filter between f1 (Hz) and f2 (Hz)\nA Chebychev window is applied to lower the side-lobes\n\n"
      ]
    },
    {
      "cell_type": "code",
      "execution_count": null,
      "metadata": {
        "collapsed": false
      },
      "outputs": [],
      "source": [
        "from blocksim.dsp.DSPFilter import BandpassDSPFilter\nfrom blocksim.graphics import plotBode\nfrom blocksim.Simulation import Simulation\n\nsim = Simulation()\n\nfs = 200\nf1 = 10\nf2 = 30\nfilt = BandpassDSPFilter(\n    name=\"filter\",\n    f_low=f1,\n    f_high=f2,\n    samplingPeriod=1 / fs,\n    numtaps=256,\n    win=(\"chebwin\", -60),\n)\nsim.addComputer(filt)"
      ]
    },
    {
      "cell_type": "markdown",
      "metadata": {},
      "source": [
        "We plot the Bode diagram\n\n"
      ]
    },
    {
      "cell_type": "code",
      "execution_count": null,
      "metadata": {
        "collapsed": false
      },
      "outputs": [],
      "source": [
        "fig = plt.figure()\naxe_amp = fig.add_subplot(211)\naxe_pha = fig.add_subplot(212, sharex=axe_amp)\n\nplotBode(filt, axe_amp, axe_pha)"
      ]
    },
    {
      "cell_type": "markdown",
      "metadata": {},
      "source": [
        "## Application of the filter\nWe construct s1 as a signal with f0 and 3*f0 frequencies\n\n"
      ]
    },
    {
      "cell_type": "code",
      "execution_count": null,
      "metadata": {
        "collapsed": false
      },
      "outputs": [],
      "source": [
        "from blocksim.graphics import plotDSPLine\nfrom blocksim.dsp.DSPSignal import DSPSignal\n\nf0 = 20\nns = 200\nt1 = np.arange(ns) / fs\nx1 = exp(1j * 2 * pi * f0 * t1) + exp(1j * 2 * pi * 3 * f0 * t1)\ns1 = DSPSignal(name=\"s1\", samplingStart=0, samplingPeriod=1 / fs, y_serie=x1)\nsim.addComputer(s1)"
      ]
    },
    {
      "cell_type": "markdown",
      "metadata": {},
      "source": [
        "s2 is the expected signal at the output of the filter\n\n"
      ]
    },
    {
      "cell_type": "code",
      "execution_count": null,
      "metadata": {
        "collapsed": false
      },
      "outputs": [],
      "source": [
        "x2 = exp(1j * 2 * pi * f0 * t1)\ns2 = DSPSignal(name=\"s2\", samplingStart=0, samplingPeriod=1 / fs, y_serie=x2)"
      ]
    },
    {
      "cell_type": "markdown",
      "metadata": {},
      "source": [
        "We simulate the setup\n\n"
      ]
    },
    {
      "cell_type": "code",
      "execution_count": null,
      "metadata": {
        "collapsed": false
      },
      "outputs": [],
      "source": [
        "sim.connect(\"s1.setpoint\", \"filter.unfilt\")\n\ntps = s1.generateXSerie()\nsim.simulate(tps, progress_bar=False)\nlog = sim.getLogger()\ny = DSPSignal.fromLogger(name=\"filt\", log=log, param=\"filter_filt_sample\")"
      ]
    },
    {
      "cell_type": "markdown",
      "metadata": {},
      "source": [
        "y has to be\n\n"
      ]
    },
    {
      "cell_type": "code",
      "execution_count": null,
      "metadata": {
        "collapsed": false
      },
      "outputs": [],
      "source": [
        "y = y.forceSamplingStart(-filt.getTransientPhaseDuration())"
      ]
    },
    {
      "cell_type": "markdown",
      "metadata": {},
      "source": [
        "We plot s2 and y\n\n"
      ]
    },
    {
      "cell_type": "code",
      "execution_count": null,
      "metadata": {
        "collapsed": false
      },
      "outputs": [],
      "source": [
        "fig = plt.figure()\naxe = fig.add_subplot(111)\n\nplotDSPLine(y, axe, label=\"Output (y)\")\nplotDSPLine(s2, axe, label=\"Expected (s2)\")\naxe.legend()\n\nplt.show()"
      ]
    }
  ],
  "metadata": {
    "kernelspec": {
      "display_name": "Python 3",
      "language": "python",
      "name": "python3"
    },
    "language_info": {
      "codemirror_mode": {
        "name": "ipython",
        "version": 3
      },
      "file_extension": ".py",
      "mimetype": "text/x-python",
      "name": "python",
      "nbconvert_exporter": "python",
      "pygments_lexer": "ipython3",
      "version": "3.9.7"
    }
  },
  "nbformat": 4,
  "nbformat_minor": 0
}
