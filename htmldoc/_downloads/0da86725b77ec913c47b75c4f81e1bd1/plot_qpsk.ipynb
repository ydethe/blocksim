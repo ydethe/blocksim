{
  "cells": [
    {
      "cell_type": "code",
      "execution_count": null,
      "metadata": {
        "collapsed": false
      },
      "outputs": [],
      "source": [
        "%matplotlib inline"
      ]
    },
    {
      "cell_type": "markdown",
      "metadata": {},
      "source": [
        "\n# QPSK modulation\n"
      ]
    },
    {
      "cell_type": "markdown",
      "metadata": {},
      "source": [
        "## Main libraries import\n\n"
      ]
    },
    {
      "cell_type": "code",
      "execution_count": null,
      "metadata": {
        "collapsed": false
      },
      "outputs": [],
      "source": [
        "import numpy as np\nfrom numpy import log10, sqrt, pi\nfrom matplotlib import pyplot as plt\n\nfrom blocksim import logger\nfrom blocksim.dsp.PSKMod import PSKMapping, PSKDemapping"
      ]
    },
    {
      "cell_type": "markdown",
      "metadata": {},
      "source": [
        "## Instanciation of QPSK modulator and demodulator\n\n"
      ]
    },
    {
      "cell_type": "code",
      "execution_count": null,
      "metadata": {
        "collapsed": false
      },
      "outputs": [],
      "source": [
        "mapping = [pi / 4, 3 * pi / 4, 5 * pi / 4, 7 * pi / 4]\nqpsk_co = PSKMapping(name=\"map\", mapping=mapping, output_size=1)\nqpsk_dec = PSKDemapping(name=\"demap\", mapping=mapping, output_size=2)"
      ]
    },
    {
      "cell_type": "markdown",
      "metadata": {},
      "source": [
        "Generation of a random bitstream\n\n"
      ]
    },
    {
      "cell_type": "code",
      "execution_count": null,
      "metadata": {
        "collapsed": false
      },
      "outputs": [],
      "source": [
        "ntot = 256\ndata = np.random.randint(low=0, high=2, size=(qpsk_co.mu, ntot))"
      ]
    },
    {
      "cell_type": "markdown",
      "metadata": {},
      "source": [
        "Generation of the QPSK stream of symbols\n\n"
      ]
    },
    {
      "cell_type": "code",
      "execution_count": null,
      "metadata": {
        "collapsed": false
      },
      "outputs": [],
      "source": [
        "qpsk_payload = qpsk_co.process(data)"
      ]
    },
    {
      "cell_type": "markdown",
      "metadata": {},
      "source": [
        "Adding gaussian noise to the QPSK stream of symbols\n\n"
      ]
    },
    {
      "cell_type": "code",
      "execution_count": null,
      "metadata": {
        "collapsed": false
      },
      "outputs": [],
      "source": [
        "n = qpsk_payload.shape\nqpsk_payload += (np.random.normal(size=n) + 1j * np.random.normal(size=n)) * sqrt(\n    0.05 / 2\n)"
      ]
    },
    {
      "cell_type": "markdown",
      "metadata": {},
      "source": [
        "Demodulation of the noisy QPSK symbols stream\nand verification of the error\n\n"
      ]
    },
    {
      "cell_type": "code",
      "execution_count": null,
      "metadata": {
        "collapsed": false
      },
      "outputs": [],
      "source": [
        "m = qpsk_dec.process(qpsk_payload)\nerr = np.abs(m - data)\ninok = np.where(err == 1)[0]\nber = len(inok) / ntot\nprint(\"BER : %.1f%%\" % (ber * 100))"
      ]
    },
    {
      "cell_type": "markdown",
      "metadata": {},
      "source": [
        "## Plotting\n\n"
      ]
    },
    {
      "cell_type": "code",
      "execution_count": null,
      "metadata": {
        "collapsed": false
      },
      "outputs": [],
      "source": [
        "fig = plt.figure()\naxe = fig.add_subplot(111)\naxe.grid(True)\naxe.set_aspect(\"equal\")\naxe.scatter(\n    np.real(qpsk_payload),\n    np.imag(qpsk_payload),\n    color=\"blue\",\n    marker=\"+\",\n    label=\"RX symbols\",\n)\nqpsk_co.plotConstellation(axe)\naxe.legend(loc=\"best\")\n\nplt.show()"
      ]
    }
  ],
  "metadata": {
    "kernelspec": {
      "display_name": "Python 3",
      "language": "python",
      "name": "python3"
    },
    "language_info": {
      "codemirror_mode": {
        "name": "ipython",
        "version": 3
      },
      "file_extension": ".py",
      "mimetype": "text/x-python",
      "name": "python",
      "nbconvert_exporter": "python",
      "pygments_lexer": "ipython3",
      "version": "3.9.7"
    }
  },
  "nbformat": 4,
  "nbformat_minor": 0
}
