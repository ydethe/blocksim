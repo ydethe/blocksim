{
  "cells": [
    {
      "cell_type": "code",
      "execution_count": null,
      "metadata": {
        "collapsed": false
      },
      "outputs": [],
      "source": [
        "%matplotlib inline"
      ]
    },
    {
      "cell_type": "markdown",
      "metadata": {},
      "source": [
        "\n# Madgwick attitude estimator\n"
      ]
    },
    {
      "cell_type": "markdown",
      "metadata": {},
      "source": [
        "## Main libraries import\n\n"
      ]
    },
    {
      "cell_type": "code",
      "execution_count": null,
      "metadata": {
        "collapsed": false
      },
      "outputs": [],
      "source": [
        "import numpy as np\nfrom numpy import pi, sqrt\n\nfrom blocksim.Simulation import Simulation\nfrom blocksim.control.System import G6DOFSystem\nfrom blocksim.control.IMU import IMU\nfrom blocksim.control.SetPoint import Step\nfrom blocksim.control.Estimator import MadgwickFilter\nfrom blocksim.utils import deg, euler_to_quat"
      ]
    },
    {
      "cell_type": "markdown",
      "metadata": {},
      "source": [
        "## Construction of the simulation\n\n"
      ]
    },
    {
      "cell_type": "code",
      "execution_count": null,
      "metadata": {
        "collapsed": false
      },
      "outputs": [],
      "source": [
        "sim = Simulation()"
      ]
    },
    {
      "cell_type": "markdown",
      "metadata": {},
      "source": [
        "Definition of a null Step function\n\n"
      ]
    },
    {
      "cell_type": "code",
      "execution_count": null,
      "metadata": {
        "collapsed": false
      },
      "outputs": [],
      "source": [
        "ctrl = Step(name=\"ctrl\", snames=[\"u%i\" % i for i in range(6)], cons=np.zeros(6))\n\nsim.addComputer(ctrl)"
      ]
    },
    {
      "cell_type": "markdown",
      "metadata": {},
      "source": [
        "Initialisation of a G6DOFSystem, rotating about the pitch axis\n\n"
      ]
    },
    {
      "cell_type": "code",
      "execution_count": null,
      "metadata": {
        "collapsed": false
      },
      "outputs": [],
      "source": [
        "sys = G6DOFSystem(\"sys\")\n\nangle_ini = -60 * np.pi / 180.0\nwangle = 10.0 * np.pi / 180.0\nx0 = np.zeros(13)\nx0[10:13] = np.array([0.0, wangle, 0.0])\nq = euler_to_quat(roll=0.0, pitch=angle_ini, yaw=pi / 2)\nx0[6:10] = q\nsys.setInitialStateForOutput(x0, \"state\")\n\nsim.addComputer(sys)"
      ]
    },
    {
      "cell_type": "markdown",
      "metadata": {},
      "source": [
        "Initialisation of a biased and noisy IMU\n\n"
      ]
    },
    {
      "cell_type": "code",
      "execution_count": null,
      "metadata": {
        "collapsed": false
      },
      "outputs": [],
      "source": [
        "imu = IMU(name=\"imu\")\ncov = np.diag(3 * [np.pi / 180] + 3 * [1e-3 * 9.81] + 3 * [1.0e-6])\nimu.setCovariance(cov)\nmoy = np.zeros(9)\nmoy[0] = 0.5 * np.pi / 180\nmoy[1] = -1.0 * np.pi / 180\nmoy[2] = 1.5 * np.pi / 180\nimu.setMean(moy)\n\nsim.addComputer(imu)"
      ]
    },
    {
      "cell_type": "markdown",
      "metadata": {},
      "source": [
        "Initialisation of the Madgwick attitude estimator\n\n"
      ]
    },
    {
      "cell_type": "code",
      "execution_count": null,
      "metadata": {
        "collapsed": false
      },
      "outputs": [],
      "source": [
        "est = MadgwickFilter(\"madg\", beta=2.0)\nest.setMagnetometerCalibration(offset=np.arange(3), softiron_matrix=np.eye(3) / 2)\nb, m = est.getMagnetometerCalibration()\nest.setMagnetometerCalibration(offset=np.zeros(3), softiron_matrix=np.eye(3))\n\nsim.addComputer(est)"
      ]
    },
    {
      "cell_type": "markdown",
      "metadata": {},
      "source": [
        "## Simulation\n\n"
      ]
    },
    {
      "cell_type": "code",
      "execution_count": null,
      "metadata": {
        "collapsed": false
      },
      "outputs": [],
      "source": [
        "from blocksim.graphics import plotVerif\nfrom matplotlib import pyplot as plt\n\nsim.connect(\"ctrl.setpoint\", \"sys.command\")\nsim.connect(\"sys.state\", \"imu.state\")\nsim.connect(\"imu.measurement\", \"madg.measurement\")\n\ntfin = -2 * angle_ini / wangle\ntps = np.arange(0.0, tfin, 1e-2)\nw = angle_ini + tps * wangle\n\nsim.simulate(tps, progress_bar=False)\nlog = sim.getLogger()\n\nplotVerif(\n    log,\n    \"Figure 1\",\n    [\n        {\"var\": \"deg(madg_euler_roll)\", \"label\": \"FilteredRoll\"},\n        {\"var\": \"deg(madg_euler_pitch)\", \"label\": \"FilteredPitch\"},\n        {\"var\": \"deg(madg_euler_yaw)\", \"label\": \"FilteredYaw\"},\n        {\n            \"var\": deg(w),\n            \"label\": \"Simu\",\n            \"color\": \"black\",\n            \"linestyle\": \"--\",\n        },\n    ],\n)\n\nplt.show()"
      ]
    }
  ],
  "metadata": {
    "kernelspec": {
      "display_name": "Python 3",
      "language": "python",
      "name": "python3"
    },
    "language_info": {
      "codemirror_mode": {
        "name": "ipython",
        "version": 3
      },
      "file_extension": ".py",
      "mimetype": "text/x-python",
      "name": "python",
      "nbconvert_exporter": "python",
      "pygments_lexer": "ipython3",
      "version": "3.9.7"
    }
  },
  "nbformat": 4,
  "nbformat_minor": 0
}
