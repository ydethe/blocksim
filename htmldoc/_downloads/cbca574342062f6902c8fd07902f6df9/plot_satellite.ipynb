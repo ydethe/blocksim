{
  "cells": [
    {
      "cell_type": "code",
      "execution_count": null,
      "metadata": {
        "collapsed": false
      },
      "outputs": [],
      "source": [
        "%matplotlib inline"
      ]
    },
    {
      "cell_type": "markdown",
      "metadata": {},
      "source": [
        "\n# Satellite ground track\n"
      ]
    },
    {
      "cell_type": "code",
      "execution_count": null,
      "metadata": {
        "collapsed": false
      },
      "outputs": [],
      "source": [
        "from datetime import datetime, timezone\n\nimport numpy as np\nfrom numpy import cos, sin, sqrt, exp, pi\nfrom matplotlib import pyplot as plt\n\nfrom blocksim.Simulation import Simulation\nfrom blocksim.constants import Req, omega\nfrom blocksim.source.Satellite import SGP4Satellite\nfrom blocksim.graphics.EarthPlotter import EarthPlotter\n\n\npt = (-74.0542275, 40.7004153)\ntsync = datetime(year=2022, month=1, day=1, hour=13, tzinfo=timezone.utc)\niss = SGP4Satellite.fromTLE(tsync=tsync, tle_file=\"iss.tle\")\n\nsim = Simulation()\nsim.addComputer(iss)\n\nns = 200\ntps = np.linspace(0, 14400, ns)\nsim.simulate(tps, progress_bar=False)\n\nlog = sim.getLogger()\nlon = log.getValue(\"deg(iss_subpoint_lon)\")\nlat = log.getValue(\"deg(iss_subpoint_lat)\")\n\nfig = plt.figure()\nep = EarthPlotter()\naxe = ep.createAxe(fig)\nep.plotGroundTrack(axe, lon, lat)\nep.plotDeviceReach(axe, coord=pt, elev_min=pi / 8, sat_alt=600e3, color=\"red\")\nep.plotPoint(axe, coord=pt, marker=\"*\", color=\"red\")\n\nplt.show()"
      ]
    }
  ],
  "metadata": {
    "kernelspec": {
      "display_name": "Python 3",
      "language": "python",
      "name": "python3"
    },
    "language_info": {
      "codemirror_mode": {
        "name": "ipython",
        "version": 3
      },
      "file_extension": ".py",
      "mimetype": "text/x-python",
      "name": "python",
      "nbconvert_exporter": "python",
      "pygments_lexer": "ipython3",
      "version": "3.9.7"
    }
  },
  "nbformat": 4,
  "nbformat_minor": 0
}
